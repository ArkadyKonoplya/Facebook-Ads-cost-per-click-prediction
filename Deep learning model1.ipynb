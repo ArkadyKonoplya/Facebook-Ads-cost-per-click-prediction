{
 "cells": [
  {
   "cell_type": "markdown",
   "metadata": {},
   "source": [
    "Importing the required libraries"
   ]
  },
  {
   "cell_type": "code",
   "execution_count": 5,
   "metadata": {
    "collapsed": true
   },
   "outputs": [],
   "source": [
    "import pandas as pd\n",
    "import numpy as np\n",
    "import matplotlib.pyplot as plt\n",
    "from sklearn import preprocessing\n",
    "from keras.models import Sequential\n",
    "from keras.layers import Dense\n",
    "from keras.wrappers.scikit_learn import KerasRegressor\n",
    "from sklearn.model_selection import cross_val_score\n",
    "from sklearn.model_selection import KFold\n",
    "from sklearn.preprocessing import StandardScaler\n",
    "from sklearn.pipeline import Pipeline\n",
    "import seaborn as sns\n",
    "from sklearn.model_selection import train_test_split"
   ]
  },
  {
   "cell_type": "markdown",
   "metadata": {},
   "source": [
    "Converting Categorical variables to numerical values"
   ]
  },
  {
   "cell_type": "code",
   "execution_count": 6,
   "metadata": {
    "collapsed": true
   },
   "outputs": [],
   "source": [
    "df=pd.read_excel(\"input.xlsx\")\n",
    "df=pd.get_dummies(df)\n",
    "df=df.astype(float)"
   ]
  },
  {
   "cell_type": "code",
   "execution_count": 7,
   "metadata": {},
   "outputs": [
    {
     "data": {
      "text/html": [
       "<div>\n",
       "<style>\n",
       "    .dataframe thead tr:only-child th {\n",
       "        text-align: right;\n",
       "    }\n",
       "\n",
       "    .dataframe thead th {\n",
       "        text-align: left;\n",
       "    }\n",
       "\n",
       "    .dataframe tbody tr th {\n",
       "        vertical-align: top;\n",
       "    }\n",
       "</style>\n",
       "<table border=\"1\" class=\"dataframe\">\n",
       "  <thead>\n",
       "    <tr style=\"text-align: right;\">\n",
       "      <th></th>\n",
       "      <th>budget</th>\n",
       "      <th>age_min</th>\n",
       "      <th>age_max</th>\n",
       "      <th>zips</th>\n",
       "      <th>approximate_count</th>\n",
       "      <th>character_count_body</th>\n",
       "      <th>prev_1_cost_per_click</th>\n",
       "      <th>prev_2_cost_per_click</th>\n",
       "      <th>prev_3_cost_per_click</th>\n",
       "      <th>prev_1_clicks</th>\n",
       "      <th>...</th>\n",
       "      <th>age_range_0.0-0.0</th>\n",
       "      <th>age_range_18.0-34.0</th>\n",
       "      <th>age_range_18.0-35.0</th>\n",
       "      <th>age_range_18.0-54.0</th>\n",
       "      <th>age_range_25.0-35.0</th>\n",
       "      <th>age_range_25.0-54.0</th>\n",
       "      <th>age_range_25.0-55.0</th>\n",
       "      <th>age_range_30.0-60.0</th>\n",
       "      <th>age_range_36.0-45.0</th>\n",
       "      <th>age_range_46.0-55.0</th>\n",
       "    </tr>\n",
       "  </thead>\n",
       "  <tbody>\n",
       "    <tr>\n",
       "      <th>0</th>\n",
       "      <td>27.777778</td>\n",
       "      <td>18.0</td>\n",
       "      <td>35.0</td>\n",
       "      <td>0.0</td>\n",
       "      <td>0.0</td>\n",
       "      <td>139.0</td>\n",
       "      <td>0.000000</td>\n",
       "      <td>0.000000</td>\n",
       "      <td>0.000000</td>\n",
       "      <td>0.0</td>\n",
       "      <td>...</td>\n",
       "      <td>0.0</td>\n",
       "      <td>0.0</td>\n",
       "      <td>1.0</td>\n",
       "      <td>0.0</td>\n",
       "      <td>0.0</td>\n",
       "      <td>0.0</td>\n",
       "      <td>0.0</td>\n",
       "      <td>0.0</td>\n",
       "      <td>0.0</td>\n",
       "      <td>0.0</td>\n",
       "    </tr>\n",
       "    <tr>\n",
       "      <th>1</th>\n",
       "      <td>27.777778</td>\n",
       "      <td>18.0</td>\n",
       "      <td>35.0</td>\n",
       "      <td>0.0</td>\n",
       "      <td>0.0</td>\n",
       "      <td>139.0</td>\n",
       "      <td>0.456667</td>\n",
       "      <td>0.000000</td>\n",
       "      <td>0.000000</td>\n",
       "      <td>3.0</td>\n",
       "      <td>...</td>\n",
       "      <td>0.0</td>\n",
       "      <td>0.0</td>\n",
       "      <td>1.0</td>\n",
       "      <td>0.0</td>\n",
       "      <td>0.0</td>\n",
       "      <td>0.0</td>\n",
       "      <td>0.0</td>\n",
       "      <td>0.0</td>\n",
       "      <td>0.0</td>\n",
       "      <td>0.0</td>\n",
       "    </tr>\n",
       "    <tr>\n",
       "      <th>2</th>\n",
       "      <td>27.777778</td>\n",
       "      <td>18.0</td>\n",
       "      <td>35.0</td>\n",
       "      <td>0.0</td>\n",
       "      <td>0.0</td>\n",
       "      <td>139.0</td>\n",
       "      <td>1.370000</td>\n",
       "      <td>0.456667</td>\n",
       "      <td>0.000000</td>\n",
       "      <td>1.0</td>\n",
       "      <td>...</td>\n",
       "      <td>0.0</td>\n",
       "      <td>0.0</td>\n",
       "      <td>1.0</td>\n",
       "      <td>0.0</td>\n",
       "      <td>0.0</td>\n",
       "      <td>0.0</td>\n",
       "      <td>0.0</td>\n",
       "      <td>0.0</td>\n",
       "      <td>0.0</td>\n",
       "      <td>0.0</td>\n",
       "    </tr>\n",
       "    <tr>\n",
       "      <th>3</th>\n",
       "      <td>27.777778</td>\n",
       "      <td>18.0</td>\n",
       "      <td>35.0</td>\n",
       "      <td>0.0</td>\n",
       "      <td>0.0</td>\n",
       "      <td>139.0</td>\n",
       "      <td>0.685000</td>\n",
       "      <td>1.370000</td>\n",
       "      <td>0.456667</td>\n",
       "      <td>2.0</td>\n",
       "      <td>...</td>\n",
       "      <td>0.0</td>\n",
       "      <td>0.0</td>\n",
       "      <td>1.0</td>\n",
       "      <td>0.0</td>\n",
       "      <td>0.0</td>\n",
       "      <td>0.0</td>\n",
       "      <td>0.0</td>\n",
       "      <td>0.0</td>\n",
       "      <td>0.0</td>\n",
       "      <td>0.0</td>\n",
       "    </tr>\n",
       "    <tr>\n",
       "      <th>4</th>\n",
       "      <td>27.777778</td>\n",
       "      <td>18.0</td>\n",
       "      <td>35.0</td>\n",
       "      <td>0.0</td>\n",
       "      <td>0.0</td>\n",
       "      <td>139.0</td>\n",
       "      <td>0.700000</td>\n",
       "      <td>0.685000</td>\n",
       "      <td>1.370000</td>\n",
       "      <td>2.0</td>\n",
       "      <td>...</td>\n",
       "      <td>0.0</td>\n",
       "      <td>0.0</td>\n",
       "      <td>1.0</td>\n",
       "      <td>0.0</td>\n",
       "      <td>0.0</td>\n",
       "      <td>0.0</td>\n",
       "      <td>0.0</td>\n",
       "      <td>0.0</td>\n",
       "      <td>0.0</td>\n",
       "      <td>0.0</td>\n",
       "    </tr>\n",
       "  </tbody>\n",
       "</table>\n",
       "<p>5 rows × 69 columns</p>\n",
       "</div>"
      ],
      "text/plain": [
       "      budget  age_min  age_max  zips  approximate_count  character_count_body  \\\n",
       "0  27.777778     18.0     35.0   0.0                0.0                 139.0   \n",
       "1  27.777778     18.0     35.0   0.0                0.0                 139.0   \n",
       "2  27.777778     18.0     35.0   0.0                0.0                 139.0   \n",
       "3  27.777778     18.0     35.0   0.0                0.0                 139.0   \n",
       "4  27.777778     18.0     35.0   0.0                0.0                 139.0   \n",
       "\n",
       "   prev_1_cost_per_click  prev_2_cost_per_click  prev_3_cost_per_click  \\\n",
       "0               0.000000               0.000000               0.000000   \n",
       "1               0.456667               0.000000               0.000000   \n",
       "2               1.370000               0.456667               0.000000   \n",
       "3               0.685000               1.370000               0.456667   \n",
       "4               0.700000               0.685000               1.370000   \n",
       "\n",
       "   prev_1_clicks         ...           age_range_0.0-0.0  age_range_18.0-34.0  \\\n",
       "0            0.0         ...                         0.0                  0.0   \n",
       "1            3.0         ...                         0.0                  0.0   \n",
       "2            1.0         ...                         0.0                  0.0   \n",
       "3            2.0         ...                         0.0                  0.0   \n",
       "4            2.0         ...                         0.0                  0.0   \n",
       "\n",
       "   age_range_18.0-35.0  age_range_18.0-54.0  age_range_25.0-35.0  \\\n",
       "0                  1.0                  0.0                  0.0   \n",
       "1                  1.0                  0.0                  0.0   \n",
       "2                  1.0                  0.0                  0.0   \n",
       "3                  1.0                  0.0                  0.0   \n",
       "4                  1.0                  0.0                  0.0   \n",
       "\n",
       "   age_range_25.0-54.0  age_range_25.0-55.0  age_range_30.0-60.0  \\\n",
       "0                  0.0                  0.0                  0.0   \n",
       "1                  0.0                  0.0                  0.0   \n",
       "2                  0.0                  0.0                  0.0   \n",
       "3                  0.0                  0.0                  0.0   \n",
       "4                  0.0                  0.0                  0.0   \n",
       "\n",
       "   age_range_36.0-45.0  age_range_46.0-55.0  \n",
       "0                  0.0                  0.0  \n",
       "1                  0.0                  0.0  \n",
       "2                  0.0                  0.0  \n",
       "3                  0.0                  0.0  \n",
       "4                  0.0                  0.0  \n",
       "\n",
       "[5 rows x 69 columns]"
      ]
     },
     "execution_count": 7,
     "metadata": {},
     "output_type": "execute_result"
    }
   ],
   "source": [
    "df.head()"
   ]
  },
  {
   "cell_type": "code",
   "execution_count": 9,
   "metadata": {
    "collapsed": true
   },
   "outputs": [],
   "source": [
    "Y=df[\"cost_per_click\"]\n",
    "X=df.drop(\"cost_per_click\",axis=1)\n",
    "X=preprocessing.scale(X)"
   ]
  },
  {
   "cell_type": "code",
   "execution_count": null,
   "metadata": {
    "collapsed": true
   },
   "outputs": [],
   "source": [
    "Splitting the Data into train/test ratio of 60/40"
   ]
  },
  {
   "cell_type": "code",
   "execution_count": 10,
   "metadata": {
    "collapsed": true
   },
   "outputs": [],
   "source": [
    "X_train, X_test, y_train, y_test = train_test_split(X, Y, test_size=0.4, random_state=42)\n"
   ]
  },
  {
   "cell_type": "markdown",
   "metadata": {},
   "source": [
    "Building a Neural Network model for the data\n"
   ]
  },
  {
   "cell_type": "code",
   "execution_count": 11,
   "metadata": {
    "collapsed": true
   },
   "outputs": [],
   "source": [
    "model = Sequential()\n",
    "model.add(Dense(68, input_dim=68, activation='sigmoid'))\n",
    "model.add(Dense(8, activation='tanh'))\n",
    "model.add(Dense(1, activation='relu'))\n",
    "model.compile(loss='mean_squared_error', optimizer='adam')"
   ]
  },
  {
   "cell_type": "markdown",
   "metadata": {},
   "source": [
    "Fitting the model on training data\n"
   ]
  },
  {
   "cell_type": "code",
   "execution_count": 12,
   "metadata": {},
   "outputs": [
    {
     "name": "stdout",
     "output_type": "stream",
     "text": [
      "Epoch 1/20\n",
      "1099/1099 [==============================] - 5s - loss: 8.1798      \n",
      "Epoch 2/20\n",
      "1099/1099 [==============================] - 0s - loss: 6.3698     \n",
      "Epoch 3/20\n",
      "1099/1099 [==============================] - 0s - loss: 6.0735     \n",
      "Epoch 4/20\n",
      "1099/1099 [==============================] - 0s - loss: 5.8867     \n",
      "Epoch 5/20\n",
      "1099/1099 [==============================] - 0s - loss: 5.7505     \n",
      "Epoch 6/20\n",
      "1099/1099 [==============================] - 0s - loss: 5.6518     \n",
      "Epoch 7/20\n",
      "1099/1099 [==============================] - 0s - loss: 5.5747     \n",
      "Epoch 8/20\n",
      "1099/1099 [==============================] - 0s - loss: 5.5212     \n",
      "Epoch 9/20\n",
      "1099/1099 [==============================] - 0s - loss: 5.4704     \n",
      "Epoch 10/20\n",
      "1099/1099 [==============================] - 0s - loss: 5.4448     \n",
      "Epoch 11/20\n",
      "1099/1099 [==============================] - 0s - loss: 5.4214     \n",
      "Epoch 12/20\n",
      "1099/1099 [==============================] - 0s - loss: 5.3957     \n",
      "Epoch 13/20\n",
      "1099/1099 [==============================] - 0s - loss: 5.3687     \n",
      "Epoch 14/20\n",
      "1099/1099 [==============================] - 0s - loss: 5.3515     \n",
      "Epoch 15/20\n",
      "1099/1099 [==============================] - 0s - loss: 5.3412     \n",
      "Epoch 16/20\n",
      "1099/1099 [==============================] - 0s - loss: 5.3270     \n",
      "Epoch 17/20\n",
      "1099/1099 [==============================] - 0s - loss: 5.3150     \n",
      "Epoch 18/20\n",
      "1099/1099 [==============================] - 0s - loss: 5.3009     \n",
      "Epoch 19/20\n",
      "1099/1099 [==============================] - 0s - loss: 5.2713     \n",
      "Epoch 20/20\n",
      "1099/1099 [==============================] - 0s - loss: 5.2604     \n"
     ]
    },
    {
     "data": {
      "text/plain": [
       "<keras.callbacks.History at 0x1ade2b2bda0>"
      ]
     },
     "execution_count": 12,
     "metadata": {},
     "output_type": "execute_result"
    }
   ],
   "source": [
    "model.fit(X_train, y_train, epochs=20, batch_size=50)"
   ]
  },
  {
   "cell_type": "markdown",
   "metadata": {},
   "source": [
    "Evaluting the model on test data"
   ]
  },
  {
   "cell_type": "code",
   "execution_count": 13,
   "metadata": {},
   "outputs": [
    {
     "name": "stdout",
     "output_type": "stream",
     "text": [
      "\r",
      " 50/734 [=>............................] - ETA: 2s"
     ]
    }
   ],
   "source": [
    "score = model.evaluate(X_test, y_test, batch_size=50)"
   ]
  },
  {
   "cell_type": "markdown",
   "metadata": {},
   "source": [
    "Mean Square error"
   ]
  },
  {
   "cell_type": "code",
   "execution_count": 14,
   "metadata": {},
   "outputs": [
    {
     "data": {
      "text/plain": [
       "7.2678245250795452"
      ]
     },
     "execution_count": 14,
     "metadata": {},
     "output_type": "execute_result"
    }
   ],
   "source": [
    "score"
   ]
  },
  {
   "cell_type": "code",
   "execution_count": null,
   "metadata": {
    "collapsed": true
   },
   "outputs": [],
   "source": []
  }
 ],
 "metadata": {
  "kernelspec": {
   "display_name": "Python 3",
   "language": "python",
   "name": "python3"
  },
  "language_info": {
   "codemirror_mode": {
    "name": "ipython",
    "version": 3
   },
   "file_extension": ".py",
   "mimetype": "text/x-python",
   "name": "python",
   "nbconvert_exporter": "python",
   "pygments_lexer": "ipython3",
   "version": "3.6.5"
  }
 },
 "nbformat": 4,
 "nbformat_minor": 2
}
