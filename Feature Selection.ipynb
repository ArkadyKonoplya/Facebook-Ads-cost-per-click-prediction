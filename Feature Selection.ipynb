{
 "cells": [
  {
   "cell_type": "markdown",
   "metadata": {},
   "source": [
    "Importing required libraries"
   ]
  },
  {
   "cell_type": "code",
   "execution_count": 26,
   "metadata": {
    "collapsed": true
   },
   "outputs": [],
   "source": [
    "\n",
    "import pandas as pd\n",
    "import matplotlib.pyplot as plt\n",
    "import numpy as np\n",
    "import seaborn as sns"
   ]
  },
  {
   "cell_type": "code",
   "execution_count": null,
   "metadata": {
    "collapsed": true
   },
   "outputs": [],
   "source": [
    "Checking the datatypes of features"
   ]
  },
  {
   "cell_type": "code",
   "execution_count": 27,
   "metadata": {},
   "outputs": [
    {
     "data": {
      "text/plain": [
       "company_id                                            int64\n",
       "goal_detail                                          object\n",
       "ad_id                                                 int64\n",
       "goal                                                 object\n",
       "experiment_id                                         int64\n",
       "budget                                              float64\n",
       "body                                                 object\n",
       "headline                                             object\n",
       "call_to_action                                       object\n",
       "mime_type                                            object\n",
       "age_min                                               int64\n",
       "age_max                                               int64\n",
       "genders                                              object\n",
       "zips                                                  int64\n",
       "states                                               object\n",
       "countries                                            object\n",
       "languages                                            object\n",
       "approximate_count                                     int64\n",
       "platform_name                                        object\n",
       "metric_date                                  datetime64[ns]\n",
       "cost_per_click                                      float64\n",
       "cost_per_impression                                 float64\n",
       "cost_per_reach                                      float64\n",
       "cost_per_action                                     float64\n",
       "capture_date                                 datetime64[ns]\n",
       "intra_experiment_cost_per_click_rank                  int64\n",
       "intra_experiment_cost_per_impression_rank             int64\n",
       "intra_experiment_cost_per_reach_rank                  int64\n",
       "character_count_body                                  int64\n",
       "character_count_headline                              int64\n",
       "                                                  ...      \n",
       "aws_label_sky                                         int64\n",
       "aws_label_sunrise                                     int64\n",
       "aws_label_sunset                                      int64\n",
       "aws_label_spruce                                      int64\n",
       "aws_label_wood                                        int64\n",
       "aws_label_pine                                        int64\n",
       "aws_label_field                                       int64\n",
       "aws_label_grass                                       int64\n",
       "aws_label_grassland                                   int64\n",
       "aws_label_reed                                        int64\n",
       "aws_label_park                                        int64\n",
       "aws_label_floral_design                               int64\n",
       "aws_label_flower_arrangement                          int64\n",
       "aws_label_flower_bouquet                              int64\n",
       "aws_label_ikebana                                     int64\n",
       "aws_label_bonsai                                      int64\n",
       "aws_label_altar                                       int64\n",
       "aws_label_architecture                                int64\n",
       "aws_label_countryside                                 int64\n",
       "aws_label_bush                                        int64\n",
       "aws_label_vegetation                                  int64\n",
       "aws_label_home_decor                                  int64\n",
       "aws_label_pillow                                      int64\n",
       "aws_label_closet                                      int64\n",
       "aws_label_wardrobe                                    int64\n",
       "aws_label_apparel                                     int64\n",
       "aws_label_coat_rack                                   int64\n",
       "aws_label_boot                                        int64\n",
       "aws_label_cowboy_boot                                 int64\n",
       "aws_label_riding_boot                                 int64\n",
       "Length: 415, dtype: object"
      ]
     },
     "execution_count": 27,
     "metadata": {},
     "output_type": "execute_result"
    }
   ],
   "source": [
    "\n",
    "df=pd.read_excel(\"quantifi_ad_ranking_data.xlsx\")\n",
    "df.dtypes"
   ]
  },
  {
   "cell_type": "code",
   "execution_count": 28,
   "metadata": {},
   "outputs": [
    {
     "data": {
      "text/plain": [
       "7"
      ]
     },
     "execution_count": 28,
     "metadata": {},
     "output_type": "execute_result"
    }
   ],
   "source": [
    "df.isnull().sum().sum()"
   ]
  },
  {
   "cell_type": "markdown",
   "metadata": {},
   "source": [
    "Setting the Seaborn style for plotting"
   ]
  },
  {
   "cell_type": "code",
   "execution_count": 29,
   "metadata": {
    "collapsed": true
   },
   "outputs": [],
   "source": [
    "sns.set()"
   ]
  },
  {
   "cell_type": "code",
   "execution_count": 32,
   "metadata": {},
   "outputs": [
    {
     "data": {
      "image/png": "[encoded data removed]",
      "text/plain": [
       "<matplotlib.figure.Figure at 0x1ad96561438>"
      ]
     },
     "metadata": {},
     "output_type": "display_data"
    }
   ],
   "source": [
    "bar_labels=df[\"age_range\"].unique()\n",
    "x_pos = list(range(len(bar_labels)))\n",
    "y=[]\n",
    "for i in bar_labels:\n",
    "    k =df.ix[:,\"age_range\"] == i\n",
    "    y.append(df.ix[k,\"cost_per_click\"].mean())\n",
    "\n",
    "\n",
    "plt.bar(x_pos,y,alpha=0.7)\n",
    "plt.grid()\n",
    "plt.ylabel(\"mean cost_per_click(USD)\")\n",
    "#plt.xlabel(bar_labels)\n",
    "plt.title(\"mean for each age range\")\n",
    "plt.xticks(x_pos, bar_labels,rotation='vertical')\n",
    "plt.rc('xtick', labelsize=9)\n",
    "plt.show()"
   ]
  },
  {
   "cell_type": "markdown",
   "metadata": {},
   "source": [
    "As we can see that Cost per Click differs for different age groups we include this feature for our model building"
   ]
  },
  {
   "cell_type": "code",
   "execution_count": 33,
   "metadata": {},
   "outputs": [
    {
     "data": {
      "image/png": "[encoded data removed]",
      "text/plain": [
       "<matplotlib.figure.Figure at 0x1ad9b8b97f0>"
      ]
     },
     "metadata": {},
     "output_type": "display_data"
    }
   ],
   "source": [
    "bar_labels1=df[\"genders\"].unique()\n",
    "x_pos1 = list(range(len(bar_labels1)))\n",
    "y1=[]\n",
    "for i in bar_labels1:\n",
    "    k1 =df.ix[:,\"genders\"] == i\n",
    "    y1.append(df.ix[k1,\"cost_per_click\"].mean())\n",
    "\n",
    "\n",
    "plt.bar(x_pos1,y1,alpha=0.7)\n",
    "plt.grid()\n",
    "plt.ylabel(\"mean cost_per_click(USD)\")\n",
    "#plt.xlabel(bar_labels)\n",
    "plt.title(\"mean for each gender type\")\n",
    "plt.xticks(x_pos1, bar_labels1)\n",
    "plt.rc('xtick', labelsize=9)\n",
    "plt.show()"
   ]
  },
  {
   "cell_type": "markdown",
   "metadata": {},
   "source": [
    "As we can see that Cost per Click differs for different genders we include this feature for our model building. Also, many of the missing data has been replaced by \"undefined\" here."
   ]
  },
  {
   "cell_type": "code",
   "execution_count": 34,
   "metadata": {},
   "outputs": [
    {
     "data": {
      "image/png": "[encoded data removed]",
      "text/plain": [
       "<matplotlib.figure.Figure at 0x1ad9b9032e8>"
      ]
     },
     "metadata": {},
     "output_type": "display_data"
    }
   ],
   "source": [
    "bar_labels2a=df[\"day_of_week\"].unique()\n",
    "bar_labels2=[str(i) for i in bar_labels2a]\n",
    "x_pos2 = list(range(len(bar_labels2)))\n",
    "y2=[]\n",
    "for i in bar_labels2a:\n",
    "    k2 =df.ix[:,\"day_of_week\"] == i\n",
    "    y2.append(df.ix[k2,\"cost_per_click\"].mean())\n",
    "\n",
    "\n",
    "plt.bar(x_pos2,y2,alpha=0.7)\n",
    "plt.grid()\n",
    "plt.ylabel(\"mean cost_per_click(USD)\")\n",
    "#plt.xlabel(bar_labels)\n",
    "plt.title(\"mean for each day\")\n",
    "plt.xticks(x_pos2, [\"Mon\",\"Tue\",\"Wed\",\"Thur\",\"Fri\",\"Sat\",\"Sun\"])\n",
    "plt.rc('xtick', labelsize=7)\n",
    "plt.show()"
   ]
  },
  {
   "cell_type": "markdown",
   "metadata": {},
   "source": [
    "As we can see that Cost per Click differs for different days of week we include this feature for our model building"
   ]
  },
  {
   "cell_type": "code",
   "execution_count": 35,
   "metadata": {},
   "outputs": [
    {
     "data": {
      "image/png": "[encoded data removed]",
      "text/plain": [
       "<matplotlib.figure.Figure at 0x1ad9b903a90>"
      ]
     },
     "metadata": {},
     "output_type": "display_data"
    }
   ],
   "source": [
    "bar_labels3=df[\"goal_detail\"].unique()\n",
    "x_pos3 = list(range(len(bar_labels3)))\n",
    "y3=[]\n",
    "for i in bar_labels3:\n",
    "    k3 =df.ix[:,\"goal_detail\"] == i\n",
    "    y3.append(df.ix[k3,\"cost_per_click\"].mean())\n",
    "\n",
    "\n",
    "plt.bar(x_pos3,y3,alpha=0.7)\n",
    "plt.grid()\n",
    "plt.ylabel(\"mean cost_per_click(USD)\")\n",
    "#plt.xlabel(bar_labels)\n",
    "plt.title(\"mean for each goal_detail\")\n",
    "plt.xticks(x_pos3, bar_labels3,rotation='vertical')\n",
    "plt.rc('xtick', labelsize=9)\n",
    "plt.show()"
   ]
  },
  {
   "cell_type": "markdown",
   "metadata": {},
   "source": [
    "As we can see that Cost per Click differs for different goal_detail we include this feature for our model building"
   ]
  },
  {
   "cell_type": "code",
   "execution_count": 36,
   "metadata": {},
   "outputs": [
    {
     "data": {
      "image/png": "[encoded data removed]",
      "text/plain": [
       "<matplotlib.figure.Figure at 0x1ad9b9564a8>"
      ]
     },
     "metadata": {},
     "output_type": "display_data"
    }
   ],
   "source": [
    "bar_labels4=df[\"goal\"].unique()\n",
    "x_pos4 = list(range(len(bar_labels4)))\n",
    "y4=[]\n",
    "for i in bar_labels4:\n",
    "    k4 =df.ix[:,\"goal\"] == i\n",
    "    y4.append(df.ix[k4,\"cost_per_click\"].mean())\n",
    "\n",
    "\n",
    "plt.bar(x_pos4,y4,alpha=0.7)\n",
    "plt.grid()\n",
    "plt.ylabel(\"mean cost_per_click(USD)\")\n",
    "#plt.xlabel(bar_labels)\n",
    "plt.title(\"mean for each goal\")\n",
    "plt.xticks(x_pos4, bar_labels4,rotation='vertical')\n",
    "plt.rc('xtick', labelsize=9)\n",
    "plt.show()"
   ]
  },
  {
   "cell_type": "markdown",
   "metadata": {},
   "source": [
    "As we can see that Cost per Click differs for different goal we include this feature for our model building"
   ]
  },
  {
   "cell_type": "code",
   "execution_count": 37,
   "metadata": {},
   "outputs": [
    {
     "data": {
      "image/png": "[encoded data removed]",
      "text/plain": [
       "<matplotlib.figure.Figure at 0x1ad9b9c9048>"
      ]
     },
     "metadata": {},
     "output_type": "display_data"
    }
   ],
   "source": [
    "bar_labels5=df[\"call_to_action\"].unique()\n",
    "x_pos5 = list(range(len(bar_labels5)))\n",
    "y5=[]\n",
    "for i in bar_labels5:\n",
    "    k5 =df.ix[:,\"call_to_action\"] == i\n",
    "    y5.append(df.ix[k5,\"cost_per_click\"].mean())\n",
    "\n",
    "\n",
    "plt.bar(x_pos5,y5,alpha=0.7)\n",
    "plt.grid()\n",
    "plt.ylabel(\"mean cost_per_click(USD)\")\n",
    "#plt.xlabel(bar_labels)\n",
    "plt.title(\"mean for each call_to_action\")\n",
    "plt.xticks(x_pos5, bar_labels5,rotation='vertical')\n",
    "plt.rc('xtick', labelsize=9)\n",
    "plt.show()"
   ]
  },
  {
   "cell_type": "markdown",
   "metadata": {},
   "source": [
    "As we can see that Cost per Click differs for different call_to_action we include this feature for our model building"
   ]
  },
  {
   "cell_type": "code",
   "execution_count": 38,
   "metadata": {},
   "outputs": [
    {
     "data": {
      "image/png": "[encoded data removed]",
      "text/plain": [
       "<matplotlib.figure.Figure at 0x1ad9baa7f60>"
      ]
     },
     "metadata": {},
     "output_type": "display_data"
    }
   ],
   "source": [
    "bar_labels6=df[\"states\"].unique()\n",
    "x_pos6 = list(range(len(bar_labels6)))\n",
    "y6=[]\n",
    "for i in bar_labels6:\n",
    "    k6 =df.ix[:,\"states\"] == i\n",
    "    y6.append(df.ix[k6,\"cost_per_click\"].mean())\n",
    "\n",
    "\n",
    "plt.bar(x_pos6,y6,alpha=0.7)\n",
    "plt.grid()\n",
    "plt.ylabel(\"mean cost_per_click(USD)\")\n",
    "#plt.xlabel(bar_labels)\n",
    "plt.title(\"mean for each states\")\n",
    "plt.xticks(x_pos6, bar_labels6,rotation='vertical')\n",
    "plt.rc('xtick', labelsize=9)\n",
    "plt.show()"
   ]
  },
  {
   "cell_type": "markdown",
   "metadata": {},
   "source": [
    "As we can see that Cost per Click differs for different states we include this feature for our model building"
   ]
  },
  {
   "cell_type": "code",
   "execution_count": 40,
   "metadata": {},
   "outputs": [
    {
     "data": {
      "image/png": "[encoded data removed]",
      "text/plain": [
       "<matplotlib.figure.Figure at 0x1ad9b903d30>"
      ]
     },
     "metadata": {},
     "output_type": "display_data"
    }
   ],
   "source": [
    "# finding relation b/w approximate_count and cost_per_click\n",
    "df1=df.ix[:,\"approximate_count\"]\n",
    "df2=np.log(df1.replace(to_replace=0, value=10))#taking care of zeros\n",
    "plt.scatter(df2,df.ix[:,\"cost_per_click\"])#log values\n",
    "plt.scatter(df1,df.ix[:,\"cost_per_click\"])#normal values\n",
    "plt.show()\n",
    "\n"
   ]
  },
  {
   "cell_type": "code",
   "execution_count": 41,
   "metadata": {},
   "outputs": [
    {
     "data": {
      "text/html": [
       "<div>\n",
       "<style>\n",
       "    .dataframe thead tr:only-child th {\n",
       "        text-align: right;\n",
       "    }\n",
       "\n",
       "    .dataframe thead th {\n",
       "        text-align: left;\n",
       "    }\n",
       "\n",
       "    .dataframe tbody tr th {\n",
       "        vertical-align: top;\n",
       "    }\n",
       "</style>\n",
       "<table border=\"1\" class=\"dataframe\">\n",
       "  <thead>\n",
       "    <tr style=\"text-align: right;\">\n",
       "      <th></th>\n",
       "      <th>approximate_count</th>\n",
       "      <th>cost_per_click</th>\n",
       "    </tr>\n",
       "  </thead>\n",
       "  <tbody>\n",
       "    <tr>\n",
       "      <th>approximate_count</th>\n",
       "      <td>1.000000</td>\n",
       "      <td>0.020237</td>\n",
       "    </tr>\n",
       "    <tr>\n",
       "      <th>cost_per_click</th>\n",
       "      <td>0.020237</td>\n",
       "      <td>1.000000</td>\n",
       "    </tr>\n",
       "  </tbody>\n",
       "</table>\n",
       "</div>"
      ],
      "text/plain": [
       "                   approximate_count  cost_per_click\n",
       "approximate_count           1.000000        0.020237\n",
       "cost_per_click              0.020237        1.000000"
      ]
     },
     "execution_count": 41,
     "metadata": {},
     "output_type": "execute_result"
    }
   ],
   "source": [
    "df3=df.ix[:,[\"approximate_count\",\"cost_per_click\"]]\n",
    "df3.corr()#No correlation b/w these variables"
   ]
  },
  {
   "cell_type": "markdown",
   "metadata": {},
   "source": [
    "As linear correlation is very less but there may be associated in some way so took this as a feature"
   ]
  },
  {
   "cell_type": "code",
   "execution_count": 42,
   "metadata": {},
   "outputs": [
    {
     "data": {
      "image/png": "[encoded data removed]",
      "text/plain": [
       "<matplotlib.figure.Figure at 0x1ad9bb0dfd0>"
      ]
     },
     "metadata": {},
     "output_type": "display_data"
    }
   ],
   "source": [
    "df4=df.ix[:,[\"prev_1_cost_per_click\",\"prev_2_cost_per_click\",\"prev_3_cost_per_click\",\"cost_per_click\"]]\n",
    "df4.corr()\n",
    "\n",
    "plt.figure(1)\n",
    "\n",
    "plt.subplot(221)\n",
    "plt.scatter(df4[\"prev_1_cost_per_click\"],df4[\"cost_per_click\"])\n",
    "plt.title('cost of today vs yesterday')\n",
    "plt.grid(True)\n",
    "\n",
    "\n",
    "plt.subplot(222)\n",
    "plt.scatter(df4[\"prev_2_cost_per_click\"],df4[\"cost_per_click\"])\n",
    "plt.title('cost of today vs 2days ago')\n",
    "plt.grid(True)\n",
    "\n",
    "\n",
    "plt.subplot(223)\n",
    "plt.scatter(df4[\"prev_3_cost_per_click\"],df4[\"cost_per_click\"])\n",
    "plt.title('cost of today vs 3days ago')\n",
    "plt.grid(True)\n",
    "\n",
    "plt.show()"
   ]
  },
  {
   "cell_type": "code",
   "execution_count": 43,
   "metadata": {},
   "outputs": [
    {
     "data": {
      "text/html": [
       "<div>\n",
       "<style>\n",
       "    .dataframe thead tr:only-child th {\n",
       "        text-align: right;\n",
       "    }\n",
       "\n",
       "    .dataframe thead th {\n",
       "        text-align: left;\n",
       "    }\n",
       "\n",
       "    .dataframe tbody tr th {\n",
       "        vertical-align: top;\n",
       "    }\n",
       "</style>\n",
       "<table border=\"1\" class=\"dataframe\">\n",
       "  <thead>\n",
       "    <tr style=\"text-align: right;\">\n",
       "      <th></th>\n",
       "      <th>prev_1_spend</th>\n",
       "      <th>prev_2_spend</th>\n",
       "      <th>prev_3_spend</th>\n",
       "      <th>cost_per_click</th>\n",
       "    </tr>\n",
       "  </thead>\n",
       "  <tbody>\n",
       "    <tr>\n",
       "      <th>prev_1_spend</th>\n",
       "      <td>1.000000</td>\n",
       "      <td>0.319523</td>\n",
       "      <td>0.175117</td>\n",
       "      <td>0.073436</td>\n",
       "    </tr>\n",
       "    <tr>\n",
       "      <th>prev_2_spend</th>\n",
       "      <td>0.319523</td>\n",
       "      <td>1.000000</td>\n",
       "      <td>0.724232</td>\n",
       "      <td>0.208723</td>\n",
       "    </tr>\n",
       "    <tr>\n",
       "      <th>prev_3_spend</th>\n",
       "      <td>0.175117</td>\n",
       "      <td>0.724232</td>\n",
       "      <td>1.000000</td>\n",
       "      <td>0.127701</td>\n",
       "    </tr>\n",
       "    <tr>\n",
       "      <th>cost_per_click</th>\n",
       "      <td>0.073436</td>\n",
       "      <td>0.208723</td>\n",
       "      <td>0.127701</td>\n",
       "      <td>1.000000</td>\n",
       "    </tr>\n",
       "  </tbody>\n",
       "</table>\n",
       "</div>"
      ],
      "text/plain": [
       "                prev_1_spend  prev_2_spend  prev_3_spend  cost_per_click\n",
       "prev_1_spend        1.000000      0.319523      0.175117        0.073436\n",
       "prev_2_spend        0.319523      1.000000      0.724232        0.208723\n",
       "prev_3_spend        0.175117      0.724232      1.000000        0.127701\n",
       "cost_per_click      0.073436      0.208723      0.127701        1.000000"
      ]
     },
     "execution_count": 43,
     "metadata": {},
     "output_type": "execute_result"
    }
   ],
   "source": [
    "# finding relation b/w previous_spend and cost_per_click\n",
    "df5=df.ix[:,[\"prev_1_spend\",\"prev_2_spend\",\"prev_3_spend\",\"cost_per_click\"]]\n",
    "df5.corr()"
   ]
  },
  {
   "cell_type": "markdown",
   "metadata": {},
   "source": [
    "Took these features for building a model"
   ]
  },
  {
   "cell_type": "code",
   "execution_count": 44,
   "metadata": {},
   "outputs": [
    {
     "data": {
      "image/png": "[encoded data removed]",
      "text/plain": [
       "<matplotlib.figure.Figure at 0x1ad9bcf9cc0>"
      ]
     },
     "metadata": {},
     "output_type": "display_data"
    }
   ],
   "source": [
    "plt.figure(1)\n",
    "\n",
    "plt.subplot(221)\n",
    "plt.scatter(df5[\"prev_1_spend\"],df5[\"cost_per_click\"])\n",
    "plt.title('cost of today vs prev_1_spend')\n",
    "plt.grid(True)\n",
    "\n",
    "\n",
    "plt.subplot(222)\n",
    "plt.scatter(df5[\"prev_2_spend\"],df5[\"cost_per_click\"])\n",
    "plt.title('cost of today vs prev_2_spend')\n",
    "plt.grid(True)\n",
    "\n",
    "\n",
    "plt.subplot(223)\n",
    "plt.scatter(df5[\"prev_3_spend\"],df5[\"cost_per_click\"])\n",
    "plt.title('cost of today vs prev_3_spend')\n",
    "plt.grid(True)\n",
    "\n",
    "plt.show()"
   ]
  },
  {
   "cell_type": "code",
   "execution_count": 45,
   "metadata": {},
   "outputs": [
    {
     "data": {
      "text/html": [
       "<div>\n",
       "<style>\n",
       "    .dataframe thead tr:only-child th {\n",
       "        text-align: right;\n",
       "    }\n",
       "\n",
       "    .dataframe thead th {\n",
       "        text-align: left;\n",
       "    }\n",
       "\n",
       "    .dataframe tbody tr th {\n",
       "        vertical-align: top;\n",
       "    }\n",
       "</style>\n",
       "<table border=\"1\" class=\"dataframe\">\n",
       "  <thead>\n",
       "    <tr style=\"text-align: right;\">\n",
       "      <th></th>\n",
       "      <th>prev_1_clicks</th>\n",
       "      <th>prev_2_clicks</th>\n",
       "      <th>prev_3_clicks</th>\n",
       "      <th>cost_per_click</th>\n",
       "    </tr>\n",
       "  </thead>\n",
       "  <tbody>\n",
       "    <tr>\n",
       "      <th>prev_1_clicks</th>\n",
       "      <td>1.000000</td>\n",
       "      <td>0.434277</td>\n",
       "      <td>0.282893</td>\n",
       "      <td>-0.172316</td>\n",
       "    </tr>\n",
       "    <tr>\n",
       "      <th>prev_2_clicks</th>\n",
       "      <td>0.434277</td>\n",
       "      <td>1.000000</td>\n",
       "      <td>0.758529</td>\n",
       "      <td>-0.142003</td>\n",
       "    </tr>\n",
       "    <tr>\n",
       "      <th>prev_3_clicks</th>\n",
       "      <td>0.282893</td>\n",
       "      <td>0.758529</td>\n",
       "      <td>1.000000</td>\n",
       "      <td>-0.117098</td>\n",
       "    </tr>\n",
       "    <tr>\n",
       "      <th>cost_per_click</th>\n",
       "      <td>-0.172316</td>\n",
       "      <td>-0.142003</td>\n",
       "      <td>-0.117098</td>\n",
       "      <td>1.000000</td>\n",
       "    </tr>\n",
       "  </tbody>\n",
       "</table>\n",
       "</div>"
      ],
      "text/plain": [
       "                prev_1_clicks  prev_2_clicks  prev_3_clicks  cost_per_click\n",
       "prev_1_clicks        1.000000       0.434277       0.282893       -0.172316\n",
       "prev_2_clicks        0.434277       1.000000       0.758529       -0.142003\n",
       "prev_3_clicks        0.282893       0.758529       1.000000       -0.117098\n",
       "cost_per_click      -0.172316      -0.142003      -0.117098        1.000000"
      ]
     },
     "execution_count": 45,
     "metadata": {},
     "output_type": "execute_result"
    }
   ],
   "source": [
    "df6=df.ix[:,[\"prev_1_clicks\",\"prev_2_clicks\",\"prev_3_clicks\",\"cost_per_click\"]]\n",
    "df6.corr()"
   ]
  },
  {
   "cell_type": "markdown",
   "metadata": {},
   "source": [
    "Took these features for building a model"
   ]
  },
  {
   "cell_type": "code",
   "execution_count": 46,
   "metadata": {},
   "outputs": [
    {
     "data": {
      "image/png": "[encoded data removed]",
      "text/plain": [
       "<matplotlib.figure.Figure at 0x1ad9be2a048>"
      ]
     },
     "metadata": {},
     "output_type": "display_data"
    }
   ],
   "source": [
    "\n",
    "plt.figure(1)\n",
    "\n",
    "plt.subplot(221)\n",
    "plt.scatter(df6[\"prev_1_clicks\"],df6[\"cost_per_click\"])\n",
    "plt.title('cost of today vs prev_1_clicks')\n",
    "plt.grid(True)\n",
    "\n",
    "\n",
    "plt.subplot(222)\n",
    "plt.scatter(df6[\"prev_2_clicks\"],df6[\"cost_per_click\"])\n",
    "plt.title('cost of today vs prev_2_clicks')\n",
    "plt.grid(True)\n",
    "\n",
    "\n",
    "plt.subplot(223)\n",
    "plt.scatter(df6[\"prev_3_clicks\"],df6[\"cost_per_click\"])\n",
    "plt.title('cost of today vs prev_3_clicks')\n",
    "plt.grid(True)\n",
    "\n",
    "plt.show()"
   ]
  },
  {
   "cell_type": "code",
   "execution_count": 47,
   "metadata": {},
   "outputs": [
    {
     "data": {
      "text/html": [
       "<div>\n",
       "<style>\n",
       "    .dataframe thead tr:only-child th {\n",
       "        text-align: right;\n",
       "    }\n",
       "\n",
       "    .dataframe thead th {\n",
       "        text-align: left;\n",
       "    }\n",
       "\n",
       "    .dataframe tbody tr th {\n",
       "        vertical-align: top;\n",
       "    }\n",
       "</style>\n",
       "<table border=\"1\" class=\"dataframe\">\n",
       "  <thead>\n",
       "    <tr style=\"text-align: right;\">\n",
       "      <th></th>\n",
       "      <th>cost_per_impression</th>\n",
       "      <th>cost_per_reach</th>\n",
       "      <th>cost_per_action</th>\n",
       "      <th>cost_per_click</th>\n",
       "    </tr>\n",
       "  </thead>\n",
       "  <tbody>\n",
       "    <tr>\n",
       "      <th>cost_per_impression</th>\n",
       "      <td>1.000000</td>\n",
       "      <td>0.985741</td>\n",
       "      <td>0.285442</td>\n",
       "      <td>0.365902</td>\n",
       "    </tr>\n",
       "    <tr>\n",
       "      <th>cost_per_reach</th>\n",
       "      <td>0.985741</td>\n",
       "      <td>1.000000</td>\n",
       "      <td>0.307857</td>\n",
       "      <td>0.392524</td>\n",
       "    </tr>\n",
       "    <tr>\n",
       "      <th>cost_per_action</th>\n",
       "      <td>0.285442</td>\n",
       "      <td>0.307857</td>\n",
       "      <td>1.000000</td>\n",
       "      <td>0.550434</td>\n",
       "    </tr>\n",
       "    <tr>\n",
       "      <th>cost_per_click</th>\n",
       "      <td>0.365902</td>\n",
       "      <td>0.392524</td>\n",
       "      <td>0.550434</td>\n",
       "      <td>1.000000</td>\n",
       "    </tr>\n",
       "  </tbody>\n",
       "</table>\n",
       "</div>"
      ],
      "text/plain": [
       "                     cost_per_impression  cost_per_reach  cost_per_action  \\\n",
       "cost_per_impression             1.000000        0.985741         0.285442   \n",
       "cost_per_reach                  0.985741        1.000000         0.307857   \n",
       "cost_per_action                 0.285442        0.307857         1.000000   \n",
       "cost_per_click                  0.365902        0.392524         0.550434   \n",
       "\n",
       "                     cost_per_click  \n",
       "cost_per_impression        0.365902  \n",
       "cost_per_reach             0.392524  \n",
       "cost_per_action            0.550434  \n",
       "cost_per_click             1.000000  "
      ]
     },
     "execution_count": 47,
     "metadata": {},
     "output_type": "execute_result"
    }
   ],
   "source": [
    "df7=df.ix[:,[\"cost_per_impression\",\"cost_per_reach\",\"cost_per_action\",\"cost_per_click\"]]\n",
    "df7.corr()"
   ]
  },
  {
   "cell_type": "markdown",
   "metadata": {},
   "source": [
    "Just checked the correlation b/w different Y variables although these are not included in our features"
   ]
  },
  {
   "cell_type": "code",
   "execution_count": 48,
   "metadata": {},
   "outputs": [
    {
     "data": {
      "text/html": [
       "<div>\n",
       "<style>\n",
       "    .dataframe thead tr:only-child th {\n",
       "        text-align: right;\n",
       "    }\n",
       "\n",
       "    .dataframe thead th {\n",
       "        text-align: left;\n",
       "    }\n",
       "\n",
       "    .dataframe tbody tr th {\n",
       "        vertical-align: top;\n",
       "    }\n",
       "</style>\n",
       "<table border=\"1\" class=\"dataframe\">\n",
       "  <thead>\n",
       "    <tr style=\"text-align: right;\">\n",
       "      <th></th>\n",
       "      <th>character_count_body</th>\n",
       "      <th>character_count_headline</th>\n",
       "      <th>punc_body_newline_ratio</th>\n",
       "      <th>punc_body_!_ratio</th>\n",
       "      <th>punc_body_#_ratio</th>\n",
       "      <th>punc_headline_newline_ratio</th>\n",
       "      <th>punc_headline_!_ratio</th>\n",
       "      <th>punc_headline_#_ratio</th>\n",
       "      <th>cost_per_click</th>\n",
       "    </tr>\n",
       "  </thead>\n",
       "  <tbody>\n",
       "    <tr>\n",
       "      <th>character_count_body</th>\n",
       "      <td>1.000000</td>\n",
       "      <td>0.298017</td>\n",
       "      <td>-0.184655</td>\n",
       "      <td>0.054143</td>\n",
       "      <td>0.023480</td>\n",
       "      <td>NaN</td>\n",
       "      <td>-0.009489</td>\n",
       "      <td>-0.034735</td>\n",
       "      <td>-0.152545</td>\n",
       "    </tr>\n",
       "    <tr>\n",
       "      <th>character_count_headline</th>\n",
       "      <td>0.298017</td>\n",
       "      <td>1.000000</td>\n",
       "      <td>-0.064581</td>\n",
       "      <td>-0.133390</td>\n",
       "      <td>-0.201954</td>\n",
       "      <td>NaN</td>\n",
       "      <td>0.010191</td>\n",
       "      <td>-0.221205</td>\n",
       "      <td>0.045437</td>\n",
       "    </tr>\n",
       "    <tr>\n",
       "      <th>punc_body_newline_ratio</th>\n",
       "      <td>-0.184655</td>\n",
       "      <td>-0.064581</td>\n",
       "      <td>1.000000</td>\n",
       "      <td>-0.225373</td>\n",
       "      <td>-0.113639</td>\n",
       "      <td>NaN</td>\n",
       "      <td>0.080237</td>\n",
       "      <td>-0.040555</td>\n",
       "      <td>0.132244</td>\n",
       "    </tr>\n",
       "    <tr>\n",
       "      <th>punc_body_!_ratio</th>\n",
       "      <td>0.054143</td>\n",
       "      <td>-0.133390</td>\n",
       "      <td>-0.225373</td>\n",
       "      <td>1.000000</td>\n",
       "      <td>0.263312</td>\n",
       "      <td>NaN</td>\n",
       "      <td>0.198982</td>\n",
       "      <td>-0.046826</td>\n",
       "      <td>0.067749</td>\n",
       "    </tr>\n",
       "    <tr>\n",
       "      <th>punc_body_#_ratio</th>\n",
       "      <td>0.023480</td>\n",
       "      <td>-0.201954</td>\n",
       "      <td>-0.113639</td>\n",
       "      <td>0.263312</td>\n",
       "      <td>1.000000</td>\n",
       "      <td>NaN</td>\n",
       "      <td>-0.015822</td>\n",
       "      <td>0.426127</td>\n",
       "      <td>0.044939</td>\n",
       "    </tr>\n",
       "    <tr>\n",
       "      <th>punc_headline_newline_ratio</th>\n",
       "      <td>NaN</td>\n",
       "      <td>NaN</td>\n",
       "      <td>NaN</td>\n",
       "      <td>NaN</td>\n",
       "      <td>NaN</td>\n",
       "      <td>NaN</td>\n",
       "      <td>NaN</td>\n",
       "      <td>NaN</td>\n",
       "      <td>NaN</td>\n",
       "    </tr>\n",
       "    <tr>\n",
       "      <th>punc_headline_!_ratio</th>\n",
       "      <td>-0.009489</td>\n",
       "      <td>0.010191</td>\n",
       "      <td>0.080237</td>\n",
       "      <td>0.198982</td>\n",
       "      <td>-0.015822</td>\n",
       "      <td>NaN</td>\n",
       "      <td>1.000000</td>\n",
       "      <td>-0.035731</td>\n",
       "      <td>-0.009836</td>\n",
       "    </tr>\n",
       "    <tr>\n",
       "      <th>punc_headline_#_ratio</th>\n",
       "      <td>-0.034735</td>\n",
       "      <td>-0.221205</td>\n",
       "      <td>-0.040555</td>\n",
       "      <td>-0.046826</td>\n",
       "      <td>0.426127</td>\n",
       "      <td>NaN</td>\n",
       "      <td>-0.035731</td>\n",
       "      <td>1.000000</td>\n",
       "      <td>0.028454</td>\n",
       "    </tr>\n",
       "    <tr>\n",
       "      <th>cost_per_click</th>\n",
       "      <td>-0.152545</td>\n",
       "      <td>0.045437</td>\n",
       "      <td>0.132244</td>\n",
       "      <td>0.067749</td>\n",
       "      <td>0.044939</td>\n",
       "      <td>NaN</td>\n",
       "      <td>-0.009836</td>\n",
       "      <td>0.028454</td>\n",
       "      <td>1.000000</td>\n",
       "    </tr>\n",
       "  </tbody>\n",
       "</table>\n",
       "</div>"
      ],
      "text/plain": [
       "                             character_count_body  character_count_headline  \\\n",
       "character_count_body                     1.000000                  0.298017   \n",
       "character_count_headline                 0.298017                  1.000000   \n",
       "punc_body_newline_ratio                 -0.184655                 -0.064581   \n",
       "punc_body_!_ratio                        0.054143                 -0.133390   \n",
       "punc_body_#_ratio                        0.023480                 -0.201954   \n",
       "punc_headline_newline_ratio                   NaN                       NaN   \n",
       "punc_headline_!_ratio                   -0.009489                  0.010191   \n",
       "punc_headline_#_ratio                   -0.034735                 -0.221205   \n",
       "cost_per_click                          -0.152545                  0.045437   \n",
       "\n",
       "                             punc_body_newline_ratio  punc_body_!_ratio  \\\n",
       "character_count_body                       -0.184655           0.054143   \n",
       "character_count_headline                   -0.064581          -0.133390   \n",
       "punc_body_newline_ratio                     1.000000          -0.225373   \n",
       "punc_body_!_ratio                          -0.225373           1.000000   \n",
       "punc_body_#_ratio                          -0.113639           0.263312   \n",
       "punc_headline_newline_ratio                      NaN                NaN   \n",
       "punc_headline_!_ratio                       0.080237           0.198982   \n",
       "punc_headline_#_ratio                      -0.040555          -0.046826   \n",
       "cost_per_click                              0.132244           0.067749   \n",
       "\n",
       "                             punc_body_#_ratio  punc_headline_newline_ratio  \\\n",
       "character_count_body                  0.023480                          NaN   \n",
       "character_count_headline             -0.201954                          NaN   \n",
       "punc_body_newline_ratio              -0.113639                          NaN   \n",
       "punc_body_!_ratio                     0.263312                          NaN   \n",
       "punc_body_#_ratio                     1.000000                          NaN   \n",
       "punc_headline_newline_ratio                NaN                          NaN   \n",
       "punc_headline_!_ratio                -0.015822                          NaN   \n",
       "punc_headline_#_ratio                 0.426127                          NaN   \n",
       "cost_per_click                        0.044939                          NaN   \n",
       "\n",
       "                             punc_headline_!_ratio  punc_headline_#_ratio  \\\n",
       "character_count_body                     -0.009489              -0.034735   \n",
       "character_count_headline                  0.010191              -0.221205   \n",
       "punc_body_newline_ratio                   0.080237              -0.040555   \n",
       "punc_body_!_ratio                         0.198982              -0.046826   \n",
       "punc_body_#_ratio                        -0.015822               0.426127   \n",
       "punc_headline_newline_ratio                    NaN                    NaN   \n",
       "punc_headline_!_ratio                     1.000000              -0.035731   \n",
       "punc_headline_#_ratio                    -0.035731               1.000000   \n",
       "cost_per_click                           -0.009836               0.028454   \n",
       "\n",
       "                             cost_per_click  \n",
       "character_count_body              -0.152545  \n",
       "character_count_headline           0.045437  \n",
       "punc_body_newline_ratio            0.132244  \n",
       "punc_body_!_ratio                  0.067749  \n",
       "punc_body_#_ratio                  0.044939  \n",
       "punc_headline_newline_ratio             NaN  \n",
       "punc_headline_!_ratio             -0.009836  \n",
       "punc_headline_#_ratio              0.028454  \n",
       "cost_per_click                     1.000000  "
      ]
     },
     "execution_count": 48,
     "metadata": {},
     "output_type": "execute_result"
    }
   ],
   "source": [
    "#headline of ad does not have any correlation with cost per click\n",
    "df8=df.ix[:,28:36]  \n",
    "df8[\"cost_per_click\"] = df.ix[:,\"cost_per_click\"]\n",
    "df8.corr()"
   ]
  },
  {
   "cell_type": "code",
   "execution_count": 49,
   "metadata": {
    "collapsed": true
   },
   "outputs": [],
   "source": [
    "#AWS hotvector correlation(set of 359 attributes)\n",
    "df9=df.ix[:,57:]  \n",
    "df9[\"cost_per_click\"] = df.ix[:,\"cost_per_click\"]\n",
    "df10=df9.corr()\n"
   ]
  },
  {
   "cell_type": "code",
   "execution_count": 53,
   "metadata": {},
   "outputs": [
    {
     "data": {
      "text/plain": [
       "interest - 3. $75,000 - $99,999          -0.062381\n",
       "interest - 4. $100,000 - $124,999        -0.062381\n",
       "interest - 5. $125,000 - $149,999        -0.062381\n",
       "interest - 6. $150,000 - $249,999        -0.062381\n",
       "interest - Auto Racing                   -0.157872\n",
       "interest - Brad Keselowski               -0.097953\n",
       "interest - Chief Marketing Officer       -0.062381\n",
       "interest - Costco                         0.053741\n",
       "interest - DNCE                          -0.114219\n",
       "interest - Dale Earnhardt Jr.            -0.141758\n",
       "interest - Danica Patrick                -0.097953\n",
       "interest - Director of Sales Marketing   -0.062381\n",
       "interest - Discount stores                0.053741\n",
       "interest - Homeowner association          0.053741\n",
       "interest - Homeowners                     0.053741\n",
       "interest - Indianapolis 500              -0.097953\n",
       "interest - Indianapolis Motor Speedway   -0.197547\n",
       "interest - Jeff Gordon                   -0.097953\n",
       "interest - Jimmie Johnson                -0.097953\n",
       "interest - Kyle Busch                    -0.097953\n",
       "interest - Mac Miller                    -0.114219\n",
       "interest - Major Lazer                   -0.114219\n",
       "interest - Marketing Director            -0.062381\n",
       "interest - Marketing Manager             -0.062381\n",
       "interest - Money Saving Mom               0.053741\n",
       "interest - Music festivals               -0.059528\n",
       "interest - NASCAR                        -0.157872\n",
       "interest - Nascar Racing                 -0.157872\n",
       "interest - Online advertising            -0.062381\n",
       "interest - Parents                       -0.067495\n",
       "                                            ...   \n",
       "aws_label_sunrise                              NaN\n",
       "aws_label_sunset                               NaN\n",
       "aws_label_spruce                               NaN\n",
       "aws_label_wood                                 NaN\n",
       "aws_label_pine                                 NaN\n",
       "aws_label_field                                NaN\n",
       "aws_label_grass                                NaN\n",
       "aws_label_grassland                            NaN\n",
       "aws_label_reed                                 NaN\n",
       "aws_label_park                                 NaN\n",
       "aws_label_floral_design                        NaN\n",
       "aws_label_flower_arrangement                   NaN\n",
       "aws_label_flower_bouquet                       NaN\n",
       "aws_label_ikebana                              NaN\n",
       "aws_label_bonsai                               NaN\n",
       "aws_label_altar                                NaN\n",
       "aws_label_architecture                         NaN\n",
       "aws_label_countryside                    -0.094577\n",
       "aws_label_bush                           -0.094577\n",
       "aws_label_vegetation                     -0.094577\n",
       "aws_label_home_decor                           NaN\n",
       "aws_label_pillow                               NaN\n",
       "aws_label_closet                               NaN\n",
       "aws_label_wardrobe                             NaN\n",
       "aws_label_apparel                              NaN\n",
       "aws_label_coat_rack                            NaN\n",
       "aws_label_boot                                 NaN\n",
       "aws_label_cowboy_boot                          NaN\n",
       "aws_label_riding_boot                          NaN\n",
       "cost_per_click                            1.000000\n",
       "Name: cost_per_click, Length: 359, dtype: float64"
      ]
     },
     "execution_count": 53,
     "metadata": {},
     "output_type": "execute_result"
    }
   ],
   "source": [
    "df10.iloc[:,-1]"
   ]
  },
  {
   "cell_type": "code",
   "execution_count": 54,
   "metadata": {
    "collapsed": true
   },
   "outputs": [],
   "source": [
    "r1=np.abs(df10[\"cost_per_click\"]) > 0.15# main attributes\n",
    "df11= df10.ix[r1,\"cost_per_click\"]# A total of 10 attributes"
   ]
  },
  {
   "cell_type": "code",
   "execution_count": 55,
   "metadata": {},
   "outputs": [
    {
     "data": {
      "text/plain": [
       "interest - Auto Racing                   -0.157872\n",
       "interest - Indianapolis Motor Speedway   -0.197547\n",
       "interest - NASCAR                        -0.157872\n",
       "interest - Nascar Racing                 -0.157872\n",
       "aws_label_classroom                      -0.153883\n",
       "aws_label_computer                       -0.158590\n",
       "aws_label_electronics                    -0.158590\n",
       "aws_label_lcd_screen                     -0.176960\n",
       "aws_label_laptop                         -0.176960\n",
       "aws_label_pc                             -0.176960\n",
       "cost_per_click                            1.000000\n",
       "Name: cost_per_click, dtype: float64"
      ]
     },
     "execution_count": 55,
     "metadata": {},
     "output_type": "execute_result"
    }
   ],
   "source": [
    "df11"
   ]
  },
  {
   "cell_type": "markdown",
   "metadata": {},
   "source": [
    "As per the above reasonings I have taken only 45 features from the given file and saved it as \"input.xlsx\" file"
   ]
  },
  {
   "cell_type": "code",
   "execution_count": null,
   "metadata": {
    "collapsed": true
   },
   "outputs": [],
   "source": []
  }
 ],
 "metadata": {
  "kernelspec": {
   "display_name": "Python 3",
   "language": "python",
   "name": "python3"
  },
  "language_info": {
   "codemirror_mode": {
    "name": "ipython",
    "version": 3
   },
   "file_extension": ".py",
   "mimetype": "text/x-python",
   "name": "python",
   "nbconvert_exporter": "python",
   "pygments_lexer": "ipython3",
   "version": "3.6.5"
  }
 },
 "nbformat": 4,
 "nbformat_minor": 2
}
