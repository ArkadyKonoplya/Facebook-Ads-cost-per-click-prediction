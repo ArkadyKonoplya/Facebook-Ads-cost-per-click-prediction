{
 "cells": [
  {
   "cell_type": "markdown",
   "metadata": {},
   "source": [
    "# Multiple Linear Regression"
   ]
  },
  {
   "cell_type": "markdown",
   "metadata": {},
   "source": [
    "Importing the dataset"
   ]
  },
  {
   "cell_type": "code",
   "execution_count": 1,
   "metadata": {
    "collapsed": true
   },
   "outputs": [],
   "source": [
    "df= read.csv(\"Cleaned file.csv\",header = TRUE)"
   ]
  },
  {
   "cell_type": "code",
   "execution_count": 2,
   "metadata": {},
   "outputs": [
    {
     "data": {
      "text/html": [
       "<ol class=list-inline>\n",
       "\t<li>'budget'</li>\n",
       "\t<li>'approximate_count'</li>\n",
       "\t<li>'character_count_body'</li>\n",
       "\t<li>'prev_1_cost_per_click'</li>\n",
       "\t<li>'prev_2_cost_per_click'</li>\n",
       "\t<li>'prev_3_cost_per_click'</li>\n",
       "\t<li>'prev_1_clicks'</li>\n",
       "\t<li>'prev_2_clicks'</li>\n",
       "\t<li>'prev_3_clicks'</li>\n",
       "\t<li>'prev_1_spend'</li>\n",
       "\t<li>'prev_2_spend'</li>\n",
       "\t<li>'prev_3_spend'</li>\n",
       "\t<li>'interest...Auto.Racing'</li>\n",
       "\t<li>'interest...Indianapolis.Motor.Speedway'</li>\n",
       "\t<li>'interest...Nascar.Racing'</li>\n",
       "\t<li>'interest...Nascar.Racing.1'</li>\n",
       "\t<li>'aws_label_classroom'</li>\n",
       "\t<li>'aws_label_computer'</li>\n",
       "\t<li>'aws_label_electronics'</li>\n",
       "\t<li>'aws_label_lcd_screen'</li>\n",
       "\t<li>'aws_label_laptop'</li>\n",
       "\t<li>'aws_label_pc'</li>\n",
       "\t<li>'goal_detail_AWARENESS'</li>\n",
       "\t<li>'goal_detail_ENGAGEMENT'</li>\n",
       "\t<li>'goal_detail_PAGEVIEW'</li>\n",
       "\t<li>'goal_detail_PURCHASE'</li>\n",
       "\t<li>'goal_detail_SIGNUP'</li>\n",
       "\t<li>'goal_AWARENESS'</li>\n",
       "\t<li>'goal_CONVERSION'</li>\n",
       "\t<li>'goal_ENGAGEMENT'</li>\n",
       "\t<li>'call_to_action_Apply.Now'</li>\n",
       "\t<li>'call_to_action_Contact.Us'</li>\n",
       "\t<li>'call_to_action_Download'</li>\n",
       "\t<li>'call_to_action_Learn.More'</li>\n",
       "\t<li>'call_to_action_Shop.Now'</li>\n",
       "\t<li>'call_to_action_Upgrade'</li>\n",
       "\t<li>'call_to_action_Vote'</li>\n",
       "\t<li>'mime_type_image.jpeg'</li>\n",
       "\t<li>'mime_type_image.png'</li>\n",
       "\t<li>'genders_F'</li>\n",
       "\t<li>'genders_M'</li>\n",
       "\t<li>'genders_M.F'</li>\n",
       "\t<li>'genders_undefined'</li>\n",
       "\t<li>'states_Indiana'</li>\n",
       "\t<li>'states_Indiana..Kentucky..Ohio'</li>\n",
       "\t<li>'states_Indiana..Ohio..Kentucky'</li>\n",
       "\t<li>'states_None'</li>\n",
       "\t<li>'states_indiana..kentucky..ohio..illinois..michigan'</li>\n",
       "\t<li>'states_ohio..indiana..kentucky..michigan..illinois'</li>\n",
       "\t<li>'states_undefined'</li>\n",
       "\t<li>'countries_United.States'</li>\n",
       "\t<li>'countries_undefined'</li>\n",
       "\t<li>'languages_English'</li>\n",
       "\t<li>'languages_undefined'</li>\n",
       "\t<li>'age_range_0.0.0.0'</li>\n",
       "\t<li>'age_range_18.0.34.0'</li>\n",
       "\t<li>'age_range_18.0.35.0'</li>\n",
       "\t<li>'age_range_18.0.54.0'</li>\n",
       "\t<li>'age_range_25.0.35.0'</li>\n",
       "\t<li>'age_range_25.0.54.0'</li>\n",
       "\t<li>'age_range_25.0.55.0'</li>\n",
       "\t<li>'age_range_30.0.60.0'</li>\n",
       "\t<li>'age_range_36.0.45.0'</li>\n",
       "\t<li>'age_range_46.0.55.0'</li>\n",
       "\t<li>'platform_name_facebook'</li>\n",
       "\t<li>'cost_per_click'</li>\n",
       "</ol>\n"
      ],
      "text/latex": [
       "\\begin{enumerate*}\n",
       "\\item 'budget'\n",
       "\\item 'approximate\\_count'\n",
       "\\item 'character\\_count\\_body'\n",
       "\\item 'prev\\_1\\_cost\\_per\\_click'\n",
       "\\item 'prev\\_2\\_cost\\_per\\_click'\n",
       "\\item 'prev\\_3\\_cost\\_per\\_click'\n",
       "\\item 'prev\\_1\\_clicks'\n",
       "\\item 'prev\\_2\\_clicks'\n",
       "\\item 'prev\\_3\\_clicks'\n",
       "\\item 'prev\\_1\\_spend'\n",
       "\\item 'prev\\_2\\_spend'\n",
       "\\item 'prev\\_3\\_spend'\n",
       "\\item 'interest...Auto.Racing'\n",
       "\\item 'interest...Indianapolis.Motor.Speedway'\n",
       "\\item 'interest...Nascar.Racing'\n",
       "\\item 'interest...Nascar.Racing.1'\n",
       "\\item 'aws\\_label\\_classroom'\n",
       "\\item 'aws\\_label\\_computer'\n",
       "\\item 'aws\\_label\\_electronics'\n",
       "\\item 'aws\\_label\\_lcd\\_screen'\n",
       "\\item 'aws\\_label\\_laptop'\n",
       "\\item 'aws\\_label\\_pc'\n",
       "\\item 'goal\\_detail\\_AWARENESS'\n",
       "\\item 'goal\\_detail\\_ENGAGEMENT'\n",
       "\\item 'goal\\_detail\\_PAGEVIEW'\n",
       "\\item 'goal\\_detail\\_PURCHASE'\n",
       "\\item 'goal\\_detail\\_SIGNUP'\n",
       "\\item 'goal\\_AWARENESS'\n",
       "\\item 'goal\\_CONVERSION'\n",
       "\\item 'goal\\_ENGAGEMENT'\n",
       "\\item 'call\\_to\\_action\\_Apply.Now'\n",
       "\\item 'call\\_to\\_action\\_Contact.Us'\n",
       "\\item 'call\\_to\\_action\\_Download'\n",
       "\\item 'call\\_to\\_action\\_Learn.More'\n",
       "\\item 'call\\_to\\_action\\_Shop.Now'\n",
       "\\item 'call\\_to\\_action\\_Upgrade'\n",
       "\\item 'call\\_to\\_action\\_Vote'\n",
       "\\item 'mime\\_type\\_image.jpeg'\n",
       "\\item 'mime\\_type\\_image.png'\n",
       "\\item 'genders\\_F'\n",
       "\\item 'genders\\_M'\n",
       "\\item 'genders\\_M.F'\n",
       "\\item 'genders\\_undefined'\n",
       "\\item 'states\\_Indiana'\n",
       "\\item 'states\\_Indiana..Kentucky..Ohio'\n",
       "\\item 'states\\_Indiana..Ohio..Kentucky'\n",
       "\\item 'states\\_None'\n",
       "\\item 'states\\_indiana..kentucky..ohio..illinois..michigan'\n",
       "\\item 'states\\_ohio..indiana..kentucky..michigan..illinois'\n",
       "\\item 'states\\_undefined'\n",
       "\\item 'countries\\_United.States'\n",
       "\\item 'countries\\_undefined'\n",
       "\\item 'languages\\_English'\n",
       "\\item 'languages\\_undefined'\n",
       "\\item 'age\\_range\\_0.0.0.0'\n",
       "\\item 'age\\_range\\_18.0.34.0'\n",
       "\\item 'age\\_range\\_18.0.35.0'\n",
       "\\item 'age\\_range\\_18.0.54.0'\n",
       "\\item 'age\\_range\\_25.0.35.0'\n",
       "\\item 'age\\_range\\_25.0.54.0'\n",
       "\\item 'age\\_range\\_25.0.55.0'\n",
       "\\item 'age\\_range\\_30.0.60.0'\n",
       "\\item 'age\\_range\\_36.0.45.0'\n",
       "\\item 'age\\_range\\_46.0.55.0'\n",
       "\\item 'platform\\_name\\_facebook'\n",
       "\\item 'cost\\_per\\_click'\n",
       "\\end{enumerate*}\n"
      ],
      "text/markdown": [
       "1. 'budget'\n",
       "2. 'approximate_count'\n",
       "3. 'character_count_body'\n",
       "4. 'prev_1_cost_per_click'\n",
       "5. 'prev_2_cost_per_click'\n",
       "6. 'prev_3_cost_per_click'\n",
       "7. 'prev_1_clicks'\n",
       "8. 'prev_2_clicks'\n",
       "9. 'prev_3_clicks'\n",
       "10. 'prev_1_spend'\n",
       "11. 'prev_2_spend'\n",
       "12. 'prev_3_spend'\n",
       "13. 'interest...Auto.Racing'\n",
       "14. 'interest...Indianapolis.Motor.Speedway'\n",
       "15. 'interest...Nascar.Racing'\n",
       "16. 'interest...Nascar.Racing.1'\n",
       "17. 'aws_label_classroom'\n",
       "18. 'aws_label_computer'\n",
       "19. 'aws_label_electronics'\n",
       "20. 'aws_label_lcd_screen'\n",
       "21. 'aws_label_laptop'\n",
       "22. 'aws_label_pc'\n",
       "23. 'goal_detail_AWARENESS'\n",
       "24. 'goal_detail_ENGAGEMENT'\n",
       "25. 'goal_detail_PAGEVIEW'\n",
       "26. 'goal_detail_PURCHASE'\n",
       "27. 'goal_detail_SIGNUP'\n",
       "28. 'goal_AWARENESS'\n",
       "29. 'goal_CONVERSION'\n",
       "30. 'goal_ENGAGEMENT'\n",
       "31. 'call_to_action_Apply.Now'\n",
       "32. 'call_to_action_Contact.Us'\n",
       "33. 'call_to_action_Download'\n",
       "34. 'call_to_action_Learn.More'\n",
       "35. 'call_to_action_Shop.Now'\n",
       "36. 'call_to_action_Upgrade'\n",
       "37. 'call_to_action_Vote'\n",
       "38. 'mime_type_image.jpeg'\n",
       "39. 'mime_type_image.png'\n",
       "40. 'genders_F'\n",
       "41. 'genders_M'\n",
       "42. 'genders_M.F'\n",
       "43. 'genders_undefined'\n",
       "44. 'states_Indiana'\n",
       "45. 'states_Indiana..Kentucky..Ohio'\n",
       "46. 'states_Indiana..Ohio..Kentucky'\n",
       "47. 'states_None'\n",
       "48. 'states_indiana..kentucky..ohio..illinois..michigan'\n",
       "49. 'states_ohio..indiana..kentucky..michigan..illinois'\n",
       "50. 'states_undefined'\n",
       "51. 'countries_United.States'\n",
       "52. 'countries_undefined'\n",
       "53. 'languages_English'\n",
       "54. 'languages_undefined'\n",
       "55. 'age_range_0.0.0.0'\n",
       "56. 'age_range_18.0.34.0'\n",
       "57. 'age_range_18.0.35.0'\n",
       "58. 'age_range_18.0.54.0'\n",
       "59. 'age_range_25.0.35.0'\n",
       "60. 'age_range_25.0.54.0'\n",
       "61. 'age_range_25.0.55.0'\n",
       "62. 'age_range_30.0.60.0'\n",
       "63. 'age_range_36.0.45.0'\n",
       "64. 'age_range_46.0.55.0'\n",
       "65. 'platform_name_facebook'\n",
       "66. 'cost_per_click'\n",
       "\n",
       "\n"
      ],
      "text/plain": [
       " [1] \"budget\"                                            \n",
       " [2] \"approximate_count\"                                 \n",
       " [3] \"character_count_body\"                              \n",
       " [4] \"prev_1_cost_per_click\"                             \n",
       " [5] \"prev_2_cost_per_click\"                             \n",
       " [6] \"prev_3_cost_per_click\"                             \n",
       " [7] \"prev_1_clicks\"                                     \n",
       " [8] \"prev_2_clicks\"                                     \n",
       " [9] \"prev_3_clicks\"                                     \n",
       "[10] \"prev_1_spend\"                                      \n",
       "[11] \"prev_2_spend\"                                      \n",
       "[12] \"prev_3_spend\"                                      \n",
       "[13] \"interest...Auto.Racing\"                            \n",
       "[14] \"interest...Indianapolis.Motor.Speedway\"            \n",
       "[15] \"interest...Nascar.Racing\"                          \n",
       "[16] \"interest...Nascar.Racing.1\"                        \n",
       "[17] \"aws_label_classroom\"                               \n",
       "[18] \"aws_label_computer\"                                \n",
       "[19] \"aws_label_electronics\"                             \n",
       "[20] \"aws_label_lcd_screen\"                              \n",
       "[21] \"aws_label_laptop\"                                  \n",
       "[22] \"aws_label_pc\"                                      \n",
       "[23] \"goal_detail_AWARENESS\"                             \n",
       "[24] \"goal_detail_ENGAGEMENT\"                            \n",
       "[25] \"goal_detail_PAGEVIEW\"                              \n",
       "[26] \"goal_detail_PURCHASE\"                              \n",
       "[27] \"goal_detail_SIGNUP\"                                \n",
       "[28] \"goal_AWARENESS\"                                    \n",
       "[29] \"goal_CONVERSION\"                                   \n",
       "[30] \"goal_ENGAGEMENT\"                                   \n",
       "[31] \"call_to_action_Apply.Now\"                          \n",
       "[32] \"call_to_action_Contact.Us\"                         \n",
       "[33] \"call_to_action_Download\"                           \n",
       "[34] \"call_to_action_Learn.More\"                         \n",
       "[35] \"call_to_action_Shop.Now\"                           \n",
       "[36] \"call_to_action_Upgrade\"                            \n",
       "[37] \"call_to_action_Vote\"                               \n",
       "[38] \"mime_type_image.jpeg\"                              \n",
       "[39] \"mime_type_image.png\"                               \n",
       "[40] \"genders_F\"                                         \n",
       "[41] \"genders_M\"                                         \n",
       "[42] \"genders_M.F\"                                       \n",
       "[43] \"genders_undefined\"                                 \n",
       "[44] \"states_Indiana\"                                    \n",
       "[45] \"states_Indiana..Kentucky..Ohio\"                    \n",
       "[46] \"states_Indiana..Ohio..Kentucky\"                    \n",
       "[47] \"states_None\"                                       \n",
       "[48] \"states_indiana..kentucky..ohio..illinois..michigan\"\n",
       "[49] \"states_ohio..indiana..kentucky..michigan..illinois\"\n",
       "[50] \"states_undefined\"                                  \n",
       "[51] \"countries_United.States\"                           \n",
       "[52] \"countries_undefined\"                               \n",
       "[53] \"languages_English\"                                 \n",
       "[54] \"languages_undefined\"                               \n",
       "[55] \"age_range_0.0.0.0\"                                 \n",
       "[56] \"age_range_18.0.34.0\"                               \n",
       "[57] \"age_range_18.0.35.0\"                               \n",
       "[58] \"age_range_18.0.54.0\"                               \n",
       "[59] \"age_range_25.0.35.0\"                               \n",
       "[60] \"age_range_25.0.54.0\"                               \n",
       "[61] \"age_range_25.0.55.0\"                               \n",
       "[62] \"age_range_30.0.60.0\"                               \n",
       "[63] \"age_range_36.0.45.0\"                               \n",
       "[64] \"age_range_46.0.55.0\"                               \n",
       "[65] \"platform_name_facebook\"                            \n",
       "[66] \"cost_per_click\"                                    "
      ]
     },
     "metadata": {},
     "output_type": "display_data"
    }
   ],
   "source": [
    "colnames(df)"
   ]
  },
  {
   "cell_type": "code",
   "execution_count": 3,
   "metadata": {},
   "outputs": [
    {
     "name": "stdout",
     "output_type": "stream",
     "text": [
      "'data.frame':\t1833 obs. of  66 variables:\n",
      " $ budget                                            : num  27.8 27.8 27.8 27.8 27.8 ...\n",
      " $ approximate_count                                 : int  0 0 0 0 0 0 0 0 0 0 ...\n",
      " $ character_count_body                              : int  139 139 139 139 139 139 139 139 139 139 ...\n",
      " $ prev_1_cost_per_click                             : num  0 0.457 1.37 0.685 0.7 ...\n",
      " $ prev_2_cost_per_click                             : num  0 0 0.457 1.37 0.685 ...\n",
      " $ prev_3_cost_per_click                             : num  0 0 0 0.457 1.37 ...\n",
      " $ prev_1_clicks                                     : int  0 3 1 2 2 0 2 6 7 9 ...\n",
      " $ prev_2_clicks                                     : int  0 0 3 1 2 2 0 2 6 7 ...\n",
      " $ prev_3_clicks                                     : int  0 0 0 3 1 2 2 0 2 6 ...\n",
      " $ prev_1_spend                                      : num  0 1.37 1.37 1.37 1.4 ...\n",
      " $ prev_2_spend                                      : num  0 0 1.37 1.37 1.37 ...\n",
      " $ prev_3_spend                                      : num  0 0 0 1.37 1.37 1.37 1.4 1.39 1.28 8.91 ...\n",
      " $ interest...Auto.Racing                            : int  0 0 0 0 0 0 0 0 0 0 ...\n",
      " $ interest...Indianapolis.Motor.Speedway            : int  0 0 0 0 0 0 0 0 0 0 ...\n",
      " $ interest...Nascar.Racing                          : int  0 0 0 0 0 0 0 0 0 0 ...\n",
      " $ interest...Nascar.Racing.1                        : int  0 0 0 0 0 0 0 0 0 0 ...\n",
      " $ aws_label_classroom                               : int  1 1 1 1 1 1 1 1 1 1 ...\n",
      " $ aws_label_computer                                : int  1 1 1 1 1 1 1 1 1 1 ...\n",
      " $ aws_label_electronics                             : int  1 1 1 1 1 1 1 1 1 1 ...\n",
      " $ aws_label_lcd_screen                              : int  1 1 1 1 1 1 1 1 1 1 ...\n",
      " $ aws_label_laptop                                  : int  1 1 1 1 1 1 1 1 1 1 ...\n",
      " $ aws_label_pc                                      : int  1 1 1 1 1 1 1 1 1 1 ...\n",
      " $ goal_detail_AWARENESS                             : int  0 0 0 0 0 0 0 0 0 0 ...\n",
      " $ goal_detail_ENGAGEMENT                            : int  0 0 0 0 0 0 0 0 0 0 ...\n",
      " $ goal_detail_PAGEVIEW                              : int  0 0 0 0 0 0 0 0 0 0 ...\n",
      " $ goal_detail_PURCHASE                              : int  1 1 1 1 1 1 1 1 1 1 ...\n",
      " $ goal_detail_SIGNUP                                : int  0 0 0 0 0 0 0 0 0 0 ...\n",
      " $ goal_AWARENESS                                    : int  0 0 0 0 0 0 0 0 0 0 ...\n",
      " $ goal_CONVERSION                                   : int  1 1 1 1 1 1 1 1 1 1 ...\n",
      " $ goal_ENGAGEMENT                                   : int  0 0 0 0 0 0 0 0 0 0 ...\n",
      " $ call_to_action_Apply.Now                          : int  0 0 0 0 0 0 0 0 0 0 ...\n",
      " $ call_to_action_Contact.Us                         : int  0 0 0 0 0 0 0 0 0 0 ...\n",
      " $ call_to_action_Download                           : int  0 0 0 0 0 0 0 0 0 0 ...\n",
      " $ call_to_action_Learn.More                         : int  1 1 1 1 1 1 1 1 1 1 ...\n",
      " $ call_to_action_Shop.Now                           : int  0 0 0 0 0 0 0 0 0 0 ...\n",
      " $ call_to_action_Upgrade                            : int  0 0 0 0 0 0 0 0 0 0 ...\n",
      " $ call_to_action_Vote                               : int  0 0 0 0 0 0 0 0 0 0 ...\n",
      " $ mime_type_image.jpeg                              : int  0 0 0 0 0 0 0 0 0 0 ...\n",
      " $ mime_type_image.png                               : int  1 1 1 1 1 1 1 1 1 1 ...\n",
      " $ genders_F                                         : int  1 1 1 1 1 1 1 1 1 1 ...\n",
      " $ genders_M                                         : int  0 0 0 0 0 0 0 0 0 0 ...\n",
      " $ genders_M.F                                       : int  0 0 0 0 0 0 0 0 0 0 ...\n",
      " $ genders_undefined                                 : int  0 0 0 0 0 0 0 0 0 0 ...\n",
      " $ states_Indiana                                    : int  0 0 0 0 0 0 0 0 0 0 ...\n",
      " $ states_Indiana..Kentucky..Ohio                    : int  0 0 0 0 0 0 0 0 0 0 ...\n",
      " $ states_Indiana..Ohio..Kentucky                    : int  0 0 0 0 0 0 0 0 0 0 ...\n",
      " $ states_None                                       : int  0 0 0 0 0 0 0 0 0 0 ...\n",
      " $ states_indiana..kentucky..ohio..illinois..michigan: int  0 0 0 0 0 0 0 0 0 0 ...\n",
      " $ states_ohio..indiana..kentucky..michigan..illinois: int  0 0 0 0 0 0 0 0 0 0 ...\n",
      " $ states_undefined                                  : int  1 1 1 1 1 1 1 1 1 1 ...\n",
      " $ countries_United.States                           : int  1 1 1 1 1 1 1 1 1 1 ...\n",
      " $ countries_undefined                               : int  0 0 0 0 0 0 0 0 0 0 ...\n",
      " $ languages_English                                 : int  0 0 0 0 0 0 0 0 0 0 ...\n",
      " $ languages_undefined                               : int  1 1 1 1 1 1 1 1 1 1 ...\n",
      " $ age_range_0.0.0.0                                 : int  0 0 0 0 0 0 0 0 0 0 ...\n",
      " $ age_range_18.0.34.0                               : int  0 0 0 0 0 0 0 0 0 0 ...\n",
      " $ age_range_18.0.35.0                               : int  1 1 1 1 1 1 1 1 1 1 ...\n",
      " $ age_range_18.0.54.0                               : int  0 0 0 0 0 0 0 0 0 0 ...\n",
      " $ age_range_25.0.35.0                               : int  0 0 0 0 0 0 0 0 0 0 ...\n",
      " $ age_range_25.0.54.0                               : int  0 0 0 0 0 0 0 0 0 0 ...\n",
      " $ age_range_25.0.55.0                               : int  0 0 0 0 0 0 0 0 0 0 ...\n",
      " $ age_range_30.0.60.0                               : int  0 0 0 0 0 0 0 0 0 0 ...\n",
      " $ age_range_36.0.45.0                               : int  0 0 0 0 0 0 0 0 0 0 ...\n",
      " $ age_range_46.0.55.0                               : int  0 0 0 0 0 0 0 0 0 0 ...\n",
      " $ platform_name_facebook                            : int  1 1 1 1 1 1 1 1 1 1 ...\n",
      " $ cost_per_click                                    : num  0.457 1.37 0.685 0.7 0 ...\n"
     ]
    }
   ],
   "source": [
    "str(df)"
   ]
  },
  {
   "cell_type": "markdown",
   "metadata": {},
   "source": [
    "Splitting the dataset into the Training set and Test set"
   ]
  },
  {
   "cell_type": "code",
   "execution_count": 5,
   "metadata": {},
   "outputs": [],
   "source": [
    "library(caTools)\n",
    "set.seed(123)\n",
    "split = sample.split(df$cost_per_click, SplitRatio = 0.7)\n",
    "training_set = subset(df, split == TRUE)\n",
    "test_set = subset(df, split == FALSE)"
   ]
  },
  {
   "cell_type": "code",
   "execution_count": 6,
   "metadata": {},
   "outputs": [
    {
     "data": {
      "text/html": [
       "<ol class=list-inline>\n",
       "\t<li>1283</li>\n",
       "\t<li>66</li>\n",
       "</ol>\n"
      ],
      "text/latex": [
       "\\begin{enumerate*}\n",
       "\\item 1283\n",
       "\\item 66\n",
       "\\end{enumerate*}\n"
      ],
      "text/markdown": [
       "1. 1283\n",
       "2. 66\n",
       "\n",
       "\n"
      ],
      "text/plain": [
       "[1] 1283   66"
      ]
     },
     "metadata": {},
     "output_type": "display_data"
    }
   ],
   "source": [
    "dim(training_set)"
   ]
  },
  {
   "cell_type": "code",
   "execution_count": 7,
   "metadata": {},
   "outputs": [
    {
     "data": {
      "text/html": [
       "<ol class=list-inline>\n",
       "\t<li>550</li>\n",
       "\t<li>66</li>\n",
       "</ol>\n"
      ],
      "text/latex": [
       "\\begin{enumerate*}\n",
       "\\item 550\n",
       "\\item 66\n",
       "\\end{enumerate*}\n"
      ],
      "text/markdown": [
       "1. 550\n",
       "2. 66\n",
       "\n",
       "\n"
      ],
      "text/plain": [
       "[1] 550  66"
      ]
     },
     "metadata": {},
     "output_type": "display_data"
    }
   ],
   "source": [
    "dim(test_set)"
   ]
  },
  {
   "cell_type": "markdown",
   "metadata": {},
   "source": [
    "Feature Scaling is taken care by function in R"
   ]
  },
  {
   "cell_type": "markdown",
   "metadata": {},
   "source": [
    "R takes care of Dummy variable trap"
   ]
  },
  {
   "cell_type": "code",
   "execution_count": 9,
   "metadata": {
    "collapsed": true
   },
   "outputs": [],
   "source": [
    "fit = lm(formula =cost_per_click ~ .,data=training_set)"
   ]
  },
  {
   "cell_type": "code",
   "execution_count": 10,
   "metadata": {
    "scrolled": false
   },
   "outputs": [
    {
     "data": {
      "text/plain": [
       "\n",
       "Call:\n",
       "lm(formula = cost_per_click ~ ., data = training_set)\n",
       "\n",
       "Residuals:\n",
       "    Min      1Q  Median      3Q     Max \n",
       "-7.5346 -1.1638 -0.2562  0.5489 18.2374 \n",
       "\n",
       "Coefficients: (26 not defined because of singularities)\n",
       "                                                     Estimate Std. Error\n",
       "(Intercept)                                         1.762e+00  6.480e-01\n",
       "budget                                             -9.226e-04  8.656e-04\n",
       "approximate_count                                   1.135e-10  1.039e-08\n",
       "character_count_body                               -5.359e-03  1.659e-03\n",
       "prev_1_cost_per_click                               1.394e-01  3.062e-02\n",
       "prev_2_cost_per_click                               3.373e-02  3.472e-02\n",
       "prev_3_cost_per_click                              -7.379e-02  3.830e-02\n",
       "prev_1_clicks                                      -5.378e-03  3.664e-03\n",
       "prev_2_clicks                                      -2.665e-03  8.000e-03\n",
       "prev_3_clicks                                      -7.497e-03  7.507e-03\n",
       "prev_1_spend                                        6.531e-03  9.059e-03\n",
       "prev_2_spend                                        4.184e-02  1.485e-02\n",
       "prev_3_spend                                        5.584e-03  1.450e-02\n",
       "interest...Auto.Racing                              4.380e+00  1.683e+00\n",
       "interest...Indianapolis.Motor.Speedway              1.427e+00  1.634e+00\n",
       "interest...Nascar.Racing                                   NA         NA\n",
       "interest...Nascar.Racing.1                                 NA         NA\n",
       "aws_label_classroom                                -7.566e-02  5.524e-01\n",
       "aws_label_computer                                  5.295e+00  1.387e+00\n",
       "aws_label_electronics                                      NA         NA\n",
       "aws_label_lcd_screen                               -5.272e+00  1.513e+00\n",
       "aws_label_laptop                                           NA         NA\n",
       "aws_label_pc                                               NA         NA\n",
       "goal_detail_AWARENESS                               6.614e-01  1.653e+00\n",
       "goal_detail_ENGAGEMENT                             -6.361e-01  1.536e+00\n",
       "goal_detail_PAGEVIEW                                7.561e-01  1.415e+00\n",
       "goal_detail_PURCHASE                                8.581e-01  1.555e+00\n",
       "goal_detail_SIGNUP                                         NA         NA\n",
       "goal_AWARENESS                                             NA         NA\n",
       "goal_CONVERSION                                            NA         NA\n",
       "goal_ENGAGEMENT                                            NA         NA\n",
       "call_to_action_Apply.Now                            1.314e+00  1.455e+00\n",
       "call_to_action_Contact.Us                           1.978e+00  1.571e+00\n",
       "call_to_action_Download                             2.196e+00  1.372e+00\n",
       "call_to_action_Learn.More                           1.454e+00  1.426e+00\n",
       "call_to_action_Shop.Now                             1.936e+00  1.507e+00\n",
       "call_to_action_Upgrade                                     NA         NA\n",
       "call_to_action_Vote                                        NA         NA\n",
       "mime_type_image.jpeg                               -3.606e-01  4.488e-01\n",
       "mime_type_image.png                                        NA         NA\n",
       "genders_F                                          -2.869e+00  5.991e-01\n",
       "genders_M                                          -2.794e+00  5.988e-01\n",
       "genders_M.F                                         1.766e+00  1.114e+00\n",
       "genders_undefined                                          NA         NA\n",
       "states_Indiana                                     -1.025e+00  1.037e+00\n",
       "states_Indiana..Kentucky..Ohio                     -1.105e-01  1.500e+00\n",
       "states_Indiana..Ohio..Kentucky                             NA         NA\n",
       "states_None                                                NA         NA\n",
       "states_indiana..kentucky..ohio..illinois..michigan  1.150e+00  1.241e+00\n",
       "states_ohio..indiana..kentucky..michigan..illinois  1.449e+00  1.261e+00\n",
       "states_undefined                                           NA         NA\n",
       "countries_United.States                                    NA         NA\n",
       "countries_undefined                                        NA         NA\n",
       "languages_English                                  -4.763e+00  1.725e+00\n",
       "languages_undefined                                        NA         NA\n",
       "age_range_0.0.0.0                                          NA         NA\n",
       "age_range_18.0.34.0                                        NA         NA\n",
       "age_range_18.0.35.0                                 7.305e-01  3.568e-01\n",
       "age_range_18.0.54.0                                -3.639e+00  1.990e+00\n",
       "age_range_25.0.35.0                                -6.582e-02  9.506e-01\n",
       "age_range_25.0.54.0                                        NA         NA\n",
       "age_range_25.0.55.0                                        NA         NA\n",
       "age_range_30.0.60.0                                        NA         NA\n",
       "age_range_36.0.45.0                                 3.791e-02  3.498e-01\n",
       "age_range_46.0.55.0                                        NA         NA\n",
       "platform_name_facebook                                     NA         NA\n",
       "                                                   t value Pr(>|t|)    \n",
       "(Intercept)                                          2.719 0.006638 ** \n",
       "budget                                              -1.066 0.286656    \n",
       "approximate_count                                    0.011 0.991290    \n",
       "character_count_body                                -3.231 0.001268 ** \n",
       "prev_1_cost_per_click                                4.552 5.84e-06 ***\n",
       "prev_2_cost_per_click                                0.971 0.331568    \n",
       "prev_3_cost_per_click                               -1.927 0.054238 .  \n",
       "prev_1_clicks                                       -1.468 0.142447    \n",
       "prev_2_clicks                                       -0.333 0.739089    \n",
       "prev_3_clicks                                       -0.999 0.318182    \n",
       "prev_1_spend                                         0.721 0.471063    \n",
       "prev_2_spend                                         2.818 0.004908 ** \n",
       "prev_3_spend                                         0.385 0.700312    \n",
       "interest...Auto.Racing                               2.603 0.009363 ** \n",
       "interest...Indianapolis.Motor.Speedway               0.874 0.382517    \n",
       "interest...Nascar.Racing                                NA       NA    \n",
       "interest...Nascar.Racing.1                              NA       NA    \n",
       "aws_label_classroom                                 -0.137 0.891069    \n",
       "aws_label_computer                                   3.817 0.000142 ***\n",
       "aws_label_electronics                                   NA       NA    \n",
       "aws_label_lcd_screen                                -3.485 0.000510 ***\n",
       "aws_label_laptop                                        NA       NA    \n",
       "aws_label_pc                                            NA       NA    \n",
       "goal_detail_AWARENESS                                0.400 0.689151    \n",
       "goal_detail_ENGAGEMENT                              -0.414 0.678838    \n",
       "goal_detail_PAGEVIEW                                 0.534 0.593238    \n",
       "goal_detail_PURCHASE                                 0.552 0.581282    \n",
       "goal_detail_SIGNUP                                      NA       NA    \n",
       "goal_AWARENESS                                          NA       NA    \n",
       "goal_CONVERSION                                         NA       NA    \n",
       "goal_ENGAGEMENT                                         NA       NA    \n",
       "call_to_action_Apply.Now                             0.903 0.366723    \n",
       "call_to_action_Contact.Us                            1.259 0.208388    \n",
       "call_to_action_Download                              1.601 0.109664    \n",
       "call_to_action_Learn.More                            1.020 0.307916    \n",
       "call_to_action_Shop.Now                              1.285 0.199182    \n",
       "call_to_action_Upgrade                                  NA       NA    \n",
       "call_to_action_Vote                                     NA       NA    \n",
       "mime_type_image.jpeg                                -0.803 0.421913    \n",
       "mime_type_image.png                                     NA       NA    \n",
       "genders_F                                           -4.788 1.89e-06 ***\n",
       "genders_M                                           -4.667 3.38e-06 ***\n",
       "genders_M.F                                          1.584 0.113349    \n",
       "genders_undefined                                       NA       NA    \n",
       "states_Indiana                                      -0.988 0.323281    \n",
       "states_Indiana..Kentucky..Ohio                      -0.074 0.941297    \n",
       "states_Indiana..Ohio..Kentucky                          NA       NA    \n",
       "states_None                                             NA       NA    \n",
       "states_indiana..kentucky..ohio..illinois..michigan   0.927 0.354332    \n",
       "states_ohio..indiana..kentucky..michigan..illinois   1.149 0.250850    \n",
       "states_undefined                                        NA       NA    \n",
       "countries_United.States                                 NA       NA    \n",
       "countries_undefined                                     NA       NA    \n",
       "languages_English                                   -2.761 0.005850 ** \n",
       "languages_undefined                                     NA       NA    \n",
       "age_range_0.0.0.0                                       NA       NA    \n",
       "age_range_18.0.34.0                                     NA       NA    \n",
       "age_range_18.0.35.0                                  2.047 0.040858 *  \n",
       "age_range_18.0.54.0                                 -1.829 0.067666 .  \n",
       "age_range_25.0.35.0                                 -0.069 0.944807    \n",
       "age_range_25.0.54.0                                     NA       NA    \n",
       "age_range_25.0.55.0                                     NA       NA    \n",
       "age_range_30.0.60.0                                     NA       NA    \n",
       "age_range_36.0.45.0                                  0.108 0.913722    \n",
       "age_range_46.0.55.0                                     NA       NA    \n",
       "platform_name_facebook                                  NA       NA    \n",
       "---\n",
       "Signif. codes:  0 '***' 0.001 '**' 0.01 '*' 0.05 '.' 0.1 ' ' 1\n",
       "\n",
       "Residual standard error: 2.572 on 1243 degrees of freedom\n",
       "Multiple R-squared:  0.2969,\tAdjusted R-squared:  0.2748 \n",
       "F-statistic: 13.46 on 39 and 1243 DF,  p-value: < 2.2e-16\n"
      ]
     },
     "metadata": {},
     "output_type": "display_data"
    }
   ],
   "source": [
    "summary(fit)"
   ]
  },
  {
   "cell_type": "markdown",
   "metadata": {},
   "source": [
    "Taken those features which has a p value of 0.15 or lower"
   ]
  },
  {
   "cell_type": "code",
   "execution_count": 13,
   "metadata": {},
   "outputs": [],
   "source": [
    "fit = lm(formula =cost_per_click ~ character_count_body+prev_1_cost_per_click+prev_2_cost_per_click+prev_3_cost_per_click+prev_1_clicks\n",
    "         +prev_2_spend+interest...Auto.Racing+aws_label_computer+aws_label_lcd_screen+call_to_action_Contact.Us+\n",
    "         call_to_action_Download+genders_F+genders_M+genders_M.F+languages_English+age_range_18.0.35.0 + age_range_18.0.54.0,data=training_set)"
   ]
  },
  {
   "cell_type": "code",
   "execution_count": 14,
   "metadata": {},
   "outputs": [
    {
     "data": {
      "text/plain": [
       "\n",
       "Call:\n",
       "lm(formula = cost_per_click ~ character_count_body + prev_1_cost_per_click + \n",
       "    prev_2_cost_per_click + prev_3_cost_per_click + prev_1_clicks + \n",
       "    prev_2_spend + interest...Auto.Racing + aws_label_computer + \n",
       "    aws_label_lcd_screen + call_to_action_Contact.Us + call_to_action_Download + \n",
       "    genders_F + genders_M + genders_M.F + languages_English + \n",
       "    age_range_18.0.35.0 + age_range_18.0.54.0, data = training_set)\n",
       "\n",
       "Residuals:\n",
       "    Min      1Q  Median      3Q     Max \n",
       "-7.7173 -1.2958 -0.4246  0.6641 18.3668 \n",
       "\n",
       "Coefficients:\n",
       "                           Estimate Std. Error t value Pr(>|t|)    \n",
       "(Intercept)                3.321584   0.229478  14.475  < 2e-16 ***\n",
       "character_count_body      -0.007783   0.001333  -5.838 6.70e-09 ***\n",
       "prev_1_cost_per_click      0.183798   0.029745   6.179 8.68e-10 ***\n",
       "prev_2_cost_per_click      0.068268   0.034056   2.005 0.045220 *  \n",
       "prev_3_cost_per_click     -0.048314   0.034138  -1.415 0.157231    \n",
       "prev_1_clicks             -0.005711   0.002247  -2.542 0.011135 *  \n",
       "prev_2_spend               0.031321   0.010190   3.074 0.002160 ** \n",
       "interest...Auto.Racing     4.763367   1.266029   3.762 0.000176 ***\n",
       "aws_label_computer         5.884455   1.396539   4.214 2.69e-05 ***\n",
       "aws_label_lcd_screen      -6.050721   1.419653  -4.262 2.18e-05 ***\n",
       "call_to_action_Contact.Us  1.301849   0.775477   1.679 0.093443 .  \n",
       "call_to_action_Download    1.118613   0.373636   2.994 0.002808 ** \n",
       "genders_F                 -1.769172   0.289169  -6.118 1.26e-09 ***\n",
       "genders_M                 -1.716308   0.297003  -5.779 9.47e-09 ***\n",
       "genders_M.F                2.976055   1.077620   2.762 0.005833 ** \n",
       "languages_English         -4.629990   1.146119  -4.040 5.67e-05 ***\n",
       "age_range_18.0.35.0        0.648205   0.308890   2.099 0.036059 *  \n",
       "age_range_18.0.54.0       -4.391189   1.595727  -2.752 0.006011 ** \n",
       "---\n",
       "Signif. codes:  0 '***' 0.001 '**' 0.01 '*' 0.05 '.' 0.1 ' ' 1\n",
       "\n",
       "Residual standard error: 2.619 on 1265 degrees of freedom\n",
       "Multiple R-squared:  0.2582,\tAdjusted R-squared:  0.2483 \n",
       "F-statistic: 25.91 on 17 and 1265 DF,  p-value: < 2.2e-16\n"
      ]
     },
     "metadata": {},
     "output_type": "display_data"
    }
   ],
   "source": [
    "summary(fit)"
   ]
  },
  {
   "cell_type": "markdown",
   "metadata": {},
   "source": [
    "Now we can observe that only these values have high significance and these will be our final attributes \n",
    "Also We can conclude that Cost per click depends  mainly upon \"character_count_body\" , \"previous cost per clicks\", \"interest...Auto.Racing\", \"aws_label_computer\" , \"aws_label_lcd_screen\", \"call_to_action\", \"gender\" , \"age-range\", \"Languages\"(9 in total)"
   ]
  },
  {
   "cell_type": "code",
   "execution_count": 18,
   "metadata": {},
   "outputs": [
    {
     "name": "stderr",
     "output_type": "stream",
     "text": [
      "Warning message:\n",
      "\"package 'Metrics' was built under R version 3.4.3\""
     ]
    }
   ],
   "source": [
    "library(Metrics)"
   ]
  },
  {
   "cell_type": "code",
   "execution_count": 19,
   "metadata": {},
   "outputs": [],
   "source": [
    "y_pred = predict(fit,newdata = test_set)"
   ]
  },
  {
   "cell_type": "code",
   "execution_count": 20,
   "metadata": {},
   "outputs": [
    {
     "data": {
      "text/html": [
       "5.23077624283002"
      ],
      "text/latex": [
       "5.23077624283002"
      ],
      "text/markdown": [
       "5.23077624283002"
      ],
      "text/plain": [
       "[1] 5.230776"
      ]
     },
     "metadata": {},
     "output_type": "display_data"
    }
   ],
   "source": [
    "mse(test_set$cost_per_click,y_pred)"
   ]
  },
  {
   "cell_type": "code",
   "execution_count": 21,
   "metadata": {},
   "outputs": [
    {
     "data": {
      "image/png": "[encoded data removed]",
      "text/plain": [
       "plot without title"
      ]
     },
     "metadata": {},
     "output_type": "display_data"
    }
   ],
   "source": [
    "plot(test_set$cost_per_click,y_pred)"
   ]
  },
  {
   "cell_type": "code",
   "execution_count": 22,
   "metadata": {},
   "outputs": [
    {
     "data": {
      "text/html": [
       "0.429366806058507"
      ],
      "text/latex": [
       "0.429366806058507"
      ],
      "text/markdown": [
       "0.429366806058507"
      ],
      "text/plain": [
       "[1] 0.4293668"
      ]
     },
     "metadata": {},
     "output_type": "display_data"
    }
   ],
   "source": [
    "cor(test_set$cost_per_click,y_pred)"
   ]
  },
  {
   "cell_type": "markdown",
   "metadata": {},
   "source": [
    "Some of the predicted cost per click is negative. So, we went for Deep Neural Network model in which \"RELU\" activation function takes care of this case"
   ]
  }
 ],
 "metadata": {
  "kernelspec": {
   "display_name": "R",
   "language": "R",
   "name": "ir"
  },
  "language_info": {
   "codemirror_mode": "r",
   "file_extension": ".r",
   "mimetype": "text/x-r-source",
   "name": "R",
   "pygments_lexer": "r",
   "version": "3.4.2"
  }
 },
 "nbformat": 4,
 "nbformat_minor": 2
}
