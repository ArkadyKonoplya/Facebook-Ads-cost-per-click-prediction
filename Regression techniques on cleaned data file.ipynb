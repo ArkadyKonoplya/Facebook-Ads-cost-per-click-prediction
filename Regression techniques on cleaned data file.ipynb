{
 "cells": [
  {
   "cell_type": "markdown",
   "metadata": {},
   "source": [
    "# Multiple Linear Regression"
   ]
  },
  {
   "cell_type": "markdown",
   "metadata": {},
   "source": [
    "Importing the dataset"
   ]
  },
  {
   "cell_type": "code",
   "execution_count": 4,
   "metadata": {
    "collapsed": true
   },
   "outputs": [],
   "source": [
    "df= read.csv(\"Cleaned file.csv\",header = TRUE)"
   ]
  },
  {
   "cell_type": "code",
   "execution_count": 5,
   "metadata": {},
   "outputs": [
    {
     "data": {
      "text/html": [
       "<ol class=list-inline>\n",
       "\t<li>'budget'</li>\n",
       "\t<li>'approximate_count'</li>\n",
       "\t<li>'character_count_body'</li>\n",
       "\t<li>'prev_1_cost_per_click'</li>\n",
       "\t<li>'prev_2_cost_per_click'</li>\n",
       "\t<li>'prev_3_cost_per_click'</li>\n",
       "\t<li>'prev_1_clicks'</li>\n",
       "\t<li>'prev_2_clicks'</li>\n",
       "\t<li>'prev_3_clicks'</li>\n",
       "\t<li>'prev_1_spend'</li>\n",
       "\t<li>'prev_2_spend'</li>\n",
       "\t<li>'prev_3_spend'</li>\n",
       "\t<li>'interest...Auto.Racing'</li>\n",
       "\t<li>'interest...Indianapolis.Motor.Speedway'</li>\n",
       "\t<li>'interest...Nascar.Racing'</li>\n",
       "\t<li>'interest...Nascar.Racing.1'</li>\n",
       "\t<li>'aws_label_classroom'</li>\n",
       "\t<li>'aws_label_computer'</li>\n",
       "\t<li>'aws_label_electronics'</li>\n",
       "\t<li>'aws_label_lcd_screen'</li>\n",
       "\t<li>'aws_label_laptop'</li>\n",
       "\t<li>'aws_label_pc'</li>\n",
       "\t<li>'goal_detail_AWARENESS'</li>\n",
       "\t<li>'goal_detail_ENGAGEMENT'</li>\n",
       "\t<li>'goal_detail_PAGEVIEW'</li>\n",
       "\t<li>'goal_detail_PURCHASE'</li>\n",
       "\t<li>'goal_detail_SIGNUP'</li>\n",
       "\t<li>'goal_AWARENESS'</li>\n",
       "\t<li>'goal_CONVERSION'</li>\n",
       "\t<li>'goal_ENGAGEMENT'</li>\n",
       "\t<li>'call_to_action_Apply.Now'</li>\n",
       "\t<li>'call_to_action_Contact.Us'</li>\n",
       "\t<li>'call_to_action_Download'</li>\n",
       "\t<li>'call_to_action_Learn.More'</li>\n",
       "\t<li>'call_to_action_Shop.Now'</li>\n",
       "\t<li>'call_to_action_Upgrade'</li>\n",
       "\t<li>'call_to_action_Vote'</li>\n",
       "\t<li>'mime_type_image.jpeg'</li>\n",
       "\t<li>'mime_type_image.png'</li>\n",
       "\t<li>'genders_F'</li>\n",
       "\t<li>'genders_M'</li>\n",
       "\t<li>'genders_M.F'</li>\n",
       "\t<li>'genders_undefined'</li>\n",
       "\t<li>'states_Indiana'</li>\n",
       "\t<li>'states_Indiana..Kentucky..Ohio'</li>\n",
       "\t<li>'states_Indiana..Ohio..Kentucky'</li>\n",
       "\t<li>'states_None'</li>\n",
       "\t<li>'states_indiana..kentucky..ohio..illinois..michigan'</li>\n",
       "\t<li>'states_ohio..indiana..kentucky..michigan..illinois'</li>\n",
       "\t<li>'states_undefined'</li>\n",
       "\t<li>'countries_United.States'</li>\n",
       "\t<li>'countries_undefined'</li>\n",
       "\t<li>'languages_English'</li>\n",
       "\t<li>'languages_undefined'</li>\n",
       "\t<li>'age_range_0.0.0.0'</li>\n",
       "\t<li>'age_range_18.0.34.0'</li>\n",
       "\t<li>'age_range_18.0.35.0'</li>\n",
       "\t<li>'age_range_18.0.54.0'</li>\n",
       "\t<li>'age_range_25.0.35.0'</li>\n",
       "\t<li>'age_range_25.0.54.0'</li>\n",
       "\t<li>'age_range_25.0.55.0'</li>\n",
       "\t<li>'age_range_30.0.60.0'</li>\n",
       "\t<li>'age_range_36.0.45.0'</li>\n",
       "\t<li>'age_range_46.0.55.0'</li>\n",
       "\t<li>'platform_name_facebook'</li>\n",
       "\t<li>'cost_per_click'</li>\n",
       "</ol>\n"
      ],
      "text/latex": [
       "\\begin{enumerate*}\n",
       "\\item 'budget'\n",
       "\\item 'approximate\\_count'\n",
       "\\item 'character\\_count\\_body'\n",
       "\\item 'prev\\_1\\_cost\\_per\\_click'\n",
       "\\item 'prev\\_2\\_cost\\_per\\_click'\n",
       "\\item 'prev\\_3\\_cost\\_per\\_click'\n",
       "\\item 'prev\\_1\\_clicks'\n",
       "\\item 'prev\\_2\\_clicks'\n",
       "\\item 'prev\\_3\\_clicks'\n",
       "\\item 'prev\\_1\\_spend'\n",
       "\\item 'prev\\_2\\_spend'\n",
       "\\item 'prev\\_3\\_spend'\n",
       "\\item 'interest...Auto.Racing'\n",
       "\\item 'interest...Indianapolis.Motor.Speedway'\n",
       "\\item 'interest...Nascar.Racing'\n",
       "\\item 'interest...Nascar.Racing.1'\n",
       "\\item 'aws\\_label\\_classroom'\n",
       "\\item 'aws\\_label\\_computer'\n",
       "\\item 'aws\\_label\\_electronics'\n",
       "\\item 'aws\\_label\\_lcd\\_screen'\n",
       "\\item 'aws\\_label\\_laptop'\n",
       "\\item 'aws\\_label\\_pc'\n",
       "\\item 'goal\\_detail\\_AWARENESS'\n",
       "\\item 'goal\\_detail\\_ENGAGEMENT'\n",
       "\\item 'goal\\_detail\\_PAGEVIEW'\n",
       "\\item 'goal\\_detail\\_PURCHASE'\n",
       "\\item 'goal\\_detail\\_SIGNUP'\n",
       "\\item 'goal\\_AWARENESS'\n",
       "\\item 'goal\\_CONVERSION'\n",
       "\\item 'goal\\_ENGAGEMENT'\n",
       "\\item 'call\\_to\\_action\\_Apply.Now'\n",
       "\\item 'call\\_to\\_action\\_Contact.Us'\n",
       "\\item 'call\\_to\\_action\\_Download'\n",
       "\\item 'call\\_to\\_action\\_Learn.More'\n",
       "\\item 'call\\_to\\_action\\_Shop.Now'\n",
       "\\item 'call\\_to\\_action\\_Upgrade'\n",
       "\\item 'call\\_to\\_action\\_Vote'\n",
       "\\item 'mime\\_type\\_image.jpeg'\n",
       "\\item 'mime\\_type\\_image.png'\n",
       "\\item 'genders\\_F'\n",
       "\\item 'genders\\_M'\n",
       "\\item 'genders\\_M.F'\n",
       "\\item 'genders\\_undefined'\n",
       "\\item 'states\\_Indiana'\n",
       "\\item 'states\\_Indiana..Kentucky..Ohio'\n",
       "\\item 'states\\_Indiana..Ohio..Kentucky'\n",
       "\\item 'states\\_None'\n",
       "\\item 'states\\_indiana..kentucky..ohio..illinois..michigan'\n",
       "\\item 'states\\_ohio..indiana..kentucky..michigan..illinois'\n",
       "\\item 'states\\_undefined'\n",
       "\\item 'countries\\_United.States'\n",
       "\\item 'countries\\_undefined'\n",
       "\\item 'languages\\_English'\n",
       "\\item 'languages\\_undefined'\n",
       "\\item 'age\\_range\\_0.0.0.0'\n",
       "\\item 'age\\_range\\_18.0.34.0'\n",
       "\\item 'age\\_range\\_18.0.35.0'\n",
       "\\item 'age\\_range\\_18.0.54.0'\n",
       "\\item 'age\\_range\\_25.0.35.0'\n",
       "\\item 'age\\_range\\_25.0.54.0'\n",
       "\\item 'age\\_range\\_25.0.55.0'\n",
       "\\item 'age\\_range\\_30.0.60.0'\n",
       "\\item 'age\\_range\\_36.0.45.0'\n",
       "\\item 'age\\_range\\_46.0.55.0'\n",
       "\\item 'platform\\_name\\_facebook'\n",
       "\\item 'cost\\_per\\_click'\n",
       "\\end{enumerate*}\n"
      ],
      "text/markdown": [
       "1. 'budget'\n",
       "2. 'approximate_count'\n",
       "3. 'character_count_body'\n",
       "4. 'prev_1_cost_per_click'\n",
       "5. 'prev_2_cost_per_click'\n",
       "6. 'prev_3_cost_per_click'\n",
       "7. 'prev_1_clicks'\n",
       "8. 'prev_2_clicks'\n",
       "9. 'prev_3_clicks'\n",
       "10. 'prev_1_spend'\n",
       "11. 'prev_2_spend'\n",
       "12. 'prev_3_spend'\n",
       "13. 'interest...Auto.Racing'\n",
       "14. 'interest...Indianapolis.Motor.Speedway'\n",
       "15. 'interest...Nascar.Racing'\n",
       "16. 'interest...Nascar.Racing.1'\n",
       "17. 'aws_label_classroom'\n",
       "18. 'aws_label_computer'\n",
       "19. 'aws_label_electronics'\n",
       "20. 'aws_label_lcd_screen'\n",
       "21. 'aws_label_laptop'\n",
       "22. 'aws_label_pc'\n",
       "23. 'goal_detail_AWARENESS'\n",
       "24. 'goal_detail_ENGAGEMENT'\n",
       "25. 'goal_detail_PAGEVIEW'\n",
       "26. 'goal_detail_PURCHASE'\n",
       "27. 'goal_detail_SIGNUP'\n",
       "28. 'goal_AWARENESS'\n",
       "29. 'goal_CONVERSION'\n",
       "30. 'goal_ENGAGEMENT'\n",
       "31. 'call_to_action_Apply.Now'\n",
       "32. 'call_to_action_Contact.Us'\n",
       "33. 'call_to_action_Download'\n",
       "34. 'call_to_action_Learn.More'\n",
       "35. 'call_to_action_Shop.Now'\n",
       "36. 'call_to_action_Upgrade'\n",
       "37. 'call_to_action_Vote'\n",
       "38. 'mime_type_image.jpeg'\n",
       "39. 'mime_type_image.png'\n",
       "40. 'genders_F'\n",
       "41. 'genders_M'\n",
       "42. 'genders_M.F'\n",
       "43. 'genders_undefined'\n",
       "44. 'states_Indiana'\n",
       "45. 'states_Indiana..Kentucky..Ohio'\n",
       "46. 'states_Indiana..Ohio..Kentucky'\n",
       "47. 'states_None'\n",
       "48. 'states_indiana..kentucky..ohio..illinois..michigan'\n",
       "49. 'states_ohio..indiana..kentucky..michigan..illinois'\n",
       "50. 'states_undefined'\n",
       "51. 'countries_United.States'\n",
       "52. 'countries_undefined'\n",
       "53. 'languages_English'\n",
       "54. 'languages_undefined'\n",
       "55. 'age_range_0.0.0.0'\n",
       "56. 'age_range_18.0.34.0'\n",
       "57. 'age_range_18.0.35.0'\n",
       "58. 'age_range_18.0.54.0'\n",
       "59. 'age_range_25.0.35.0'\n",
       "60. 'age_range_25.0.54.0'\n",
       "61. 'age_range_25.0.55.0'\n",
       "62. 'age_range_30.0.60.0'\n",
       "63. 'age_range_36.0.45.0'\n",
       "64. 'age_range_46.0.55.0'\n",
       "65. 'platform_name_facebook'\n",
       "66. 'cost_per_click'\n",
       "\n",
       "\n"
      ],
      "text/plain": [
       " [1] \"budget\"                                            \n",
       " [2] \"approximate_count\"                                 \n",
       " [3] \"character_count_body\"                              \n",
       " [4] \"prev_1_cost_per_click\"                             \n",
       " [5] \"prev_2_cost_per_click\"                             \n",
       " [6] \"prev_3_cost_per_click\"                             \n",
       " [7] \"prev_1_clicks\"                                     \n",
       " [8] \"prev_2_clicks\"                                     \n",
       " [9] \"prev_3_clicks\"                                     \n",
       "[10] \"prev_1_spend\"                                      \n",
       "[11] \"prev_2_spend\"                                      \n",
       "[12] \"prev_3_spend\"                                      \n",
       "[13] \"interest...Auto.Racing\"                            \n",
       "[14] \"interest...Indianapolis.Motor.Speedway\"            \n",
       "[15] \"interest...Nascar.Racing\"                          \n",
       "[16] \"interest...Nascar.Racing.1\"                        \n",
       "[17] \"aws_label_classroom\"                               \n",
       "[18] \"aws_label_computer\"                                \n",
       "[19] \"aws_label_electronics\"                             \n",
       "[20] \"aws_label_lcd_screen\"                              \n",
       "[21] \"aws_label_laptop\"                                  \n",
       "[22] \"aws_label_pc\"                                      \n",
       "[23] \"goal_detail_AWARENESS\"                             \n",
       "[24] \"goal_detail_ENGAGEMENT\"                            \n",
       "[25] \"goal_detail_PAGEVIEW\"                              \n",
       "[26] \"goal_detail_PURCHASE\"                              \n",
       "[27] \"goal_detail_SIGNUP\"                                \n",
       "[28] \"goal_AWARENESS\"                                    \n",
       "[29] \"goal_CONVERSION\"                                   \n",
       "[30] \"goal_ENGAGEMENT\"                                   \n",
       "[31] \"call_to_action_Apply.Now\"                          \n",
       "[32] \"call_to_action_Contact.Us\"                         \n",
       "[33] \"call_to_action_Download\"                           \n",
       "[34] \"call_to_action_Learn.More\"                         \n",
       "[35] \"call_to_action_Shop.Now\"                           \n",
       "[36] \"call_to_action_Upgrade\"                            \n",
       "[37] \"call_to_action_Vote\"                               \n",
       "[38] \"mime_type_image.jpeg\"                              \n",
       "[39] \"mime_type_image.png\"                               \n",
       "[40] \"genders_F\"                                         \n",
       "[41] \"genders_M\"                                         \n",
       "[42] \"genders_M.F\"                                       \n",
       "[43] \"genders_undefined\"                                 \n",
       "[44] \"states_Indiana\"                                    \n",
       "[45] \"states_Indiana..Kentucky..Ohio\"                    \n",
       "[46] \"states_Indiana..Ohio..Kentucky\"                    \n",
       "[47] \"states_None\"                                       \n",
       "[48] \"states_indiana..kentucky..ohio..illinois..michigan\"\n",
       "[49] \"states_ohio..indiana..kentucky..michigan..illinois\"\n",
       "[50] \"states_undefined\"                                  \n",
       "[51] \"countries_United.States\"                           \n",
       "[52] \"countries_undefined\"                               \n",
       "[53] \"languages_English\"                                 \n",
       "[54] \"languages_undefined\"                               \n",
       "[55] \"age_range_0.0.0.0\"                                 \n",
       "[56] \"age_range_18.0.34.0\"                               \n",
       "[57] \"age_range_18.0.35.0\"                               \n",
       "[58] \"age_range_18.0.54.0\"                               \n",
       "[59] \"age_range_25.0.35.0\"                               \n",
       "[60] \"age_range_25.0.54.0\"                               \n",
       "[61] \"age_range_25.0.55.0\"                               \n",
       "[62] \"age_range_30.0.60.0\"                               \n",
       "[63] \"age_range_36.0.45.0\"                               \n",
       "[64] \"age_range_46.0.55.0\"                               \n",
       "[65] \"platform_name_facebook\"                            \n",
       "[66] \"cost_per_click\"                                    "
      ]
     },
     "metadata": {},
     "output_type": "display_data"
    }
   ],
   "source": [
    "colnames(df)"
   ]
  },
  {
   "cell_type": "code",
   "execution_count": 6,
   "metadata": {},
   "outputs": [
    {
     "name": "stdout",
     "output_type": "stream",
     "text": [
      "'data.frame':\t1833 obs. of  66 variables:\n",
      " $ budget                                            : num  27.8 27.8 27.8 27.8 27.8 ...\n",
      " $ approximate_count                                 : int  0 0 0 0 0 0 0 0 0 0 ...\n",
      " $ character_count_body                              : int  139 139 139 139 139 139 139 139 139 139 ...\n",
      " $ prev_1_cost_per_click                             : num  0 0.457 1.37 0.685 0.7 ...\n",
      " $ prev_2_cost_per_click                             : num  0 0 0.457 1.37 0.685 ...\n",
      " $ prev_3_cost_per_click                             : num  0 0 0 0.457 1.37 ...\n",
      " $ prev_1_clicks                                     : int  0 3 1 2 2 0 2 6 7 9 ...\n",
      " $ prev_2_clicks                                     : int  0 0 3 1 2 2 0 2 6 7 ...\n",
      " $ prev_3_clicks                                     : int  0 0 0 3 1 2 2 0 2 6 ...\n",
      " $ prev_1_spend                                      : num  0 1.37 1.37 1.37 1.4 ...\n",
      " $ prev_2_spend                                      : num  0 0 1.37 1.37 1.37 ...\n",
      " $ prev_3_spend                                      : num  0 0 0 1.37 1.37 1.37 1.4 1.39 1.28 8.91 ...\n",
      " $ interest...Auto.Racing                            : int  0 0 0 0 0 0 0 0 0 0 ...\n",
      " $ interest...Indianapolis.Motor.Speedway            : int  0 0 0 0 0 0 0 0 0 0 ...\n",
      " $ interest...Nascar.Racing                          : int  0 0 0 0 0 0 0 0 0 0 ...\n",
      " $ interest...Nascar.Racing.1                        : int  0 0 0 0 0 0 0 0 0 0 ...\n",
      " $ aws_label_classroom                               : int  1 1 1 1 1 1 1 1 1 1 ...\n",
      " $ aws_label_computer                                : int  1 1 1 1 1 1 1 1 1 1 ...\n",
      " $ aws_label_electronics                             : int  1 1 1 1 1 1 1 1 1 1 ...\n",
      " $ aws_label_lcd_screen                              : int  1 1 1 1 1 1 1 1 1 1 ...\n",
      " $ aws_label_laptop                                  : int  1 1 1 1 1 1 1 1 1 1 ...\n",
      " $ aws_label_pc                                      : int  1 1 1 1 1 1 1 1 1 1 ...\n",
      " $ goal_detail_AWARENESS                             : int  0 0 0 0 0 0 0 0 0 0 ...\n",
      " $ goal_detail_ENGAGEMENT                            : int  0 0 0 0 0 0 0 0 0 0 ...\n",
      " $ goal_detail_PAGEVIEW                              : int  0 0 0 0 0 0 0 0 0 0 ...\n",
      " $ goal_detail_PURCHASE                              : int  1 1 1 1 1 1 1 1 1 1 ...\n",
      " $ goal_detail_SIGNUP                                : int  0 0 0 0 0 0 0 0 0 0 ...\n",
      " $ goal_AWARENESS                                    : int  0 0 0 0 0 0 0 0 0 0 ...\n",
      " $ goal_CONVERSION                                   : int  1 1 1 1 1 1 1 1 1 1 ...\n",
      " $ goal_ENGAGEMENT                                   : int  0 0 0 0 0 0 0 0 0 0 ...\n",
      " $ call_to_action_Apply.Now                          : int  0 0 0 0 0 0 0 0 0 0 ...\n",
      " $ call_to_action_Contact.Us                         : int  0 0 0 0 0 0 0 0 0 0 ...\n",
      " $ call_to_action_Download                           : int  0 0 0 0 0 0 0 0 0 0 ...\n",
      " $ call_to_action_Learn.More                         : int  1 1 1 1 1 1 1 1 1 1 ...\n",
      " $ call_to_action_Shop.Now                           : int  0 0 0 0 0 0 0 0 0 0 ...\n",
      " $ call_to_action_Upgrade                            : int  0 0 0 0 0 0 0 0 0 0 ...\n",
      " $ call_to_action_Vote                               : int  0 0 0 0 0 0 0 0 0 0 ...\n",
      " $ mime_type_image.jpeg                              : int  0 0 0 0 0 0 0 0 0 0 ...\n",
      " $ mime_type_image.png                               : int  1 1 1 1 1 1 1 1 1 1 ...\n",
      " $ genders_F                                         : int  1 1 1 1 1 1 1 1 1 1 ...\n",
      " $ genders_M                                         : int  0 0 0 0 0 0 0 0 0 0 ...\n",
      " $ genders_M.F                                       : int  0 0 0 0 0 0 0 0 0 0 ...\n",
      " $ genders_undefined                                 : int  0 0 0 0 0 0 0 0 0 0 ...\n",
      " $ states_Indiana                                    : int  0 0 0 0 0 0 0 0 0 0 ...\n",
      " $ states_Indiana..Kentucky..Ohio                    : int  0 0 0 0 0 0 0 0 0 0 ...\n",
      " $ states_Indiana..Ohio..Kentucky                    : int  0 0 0 0 0 0 0 0 0 0 ...\n",
      " $ states_None                                       : int  0 0 0 0 0 0 0 0 0 0 ...\n",
      " $ states_indiana..kentucky..ohio..illinois..michigan: int  0 0 0 0 0 0 0 0 0 0 ...\n",
      " $ states_ohio..indiana..kentucky..michigan..illinois: int  0 0 0 0 0 0 0 0 0 0 ...\n",
      " $ states_undefined                                  : int  1 1 1 1 1 1 1 1 1 1 ...\n",
      " $ countries_United.States                           : int  1 1 1 1 1 1 1 1 1 1 ...\n",
      " $ countries_undefined                               : int  0 0 0 0 0 0 0 0 0 0 ...\n",
      " $ languages_English                                 : int  0 0 0 0 0 0 0 0 0 0 ...\n",
      " $ languages_undefined                               : int  1 1 1 1 1 1 1 1 1 1 ...\n",
      " $ age_range_0.0.0.0                                 : int  0 0 0 0 0 0 0 0 0 0 ...\n",
      " $ age_range_18.0.34.0                               : int  0 0 0 0 0 0 0 0 0 0 ...\n",
      " $ age_range_18.0.35.0                               : int  1 1 1 1 1 1 1 1 1 1 ...\n",
      " $ age_range_18.0.54.0                               : int  0 0 0 0 0 0 0 0 0 0 ...\n",
      " $ age_range_25.0.35.0                               : int  0 0 0 0 0 0 0 0 0 0 ...\n",
      " $ age_range_25.0.54.0                               : int  0 0 0 0 0 0 0 0 0 0 ...\n",
      " $ age_range_25.0.55.0                               : int  0 0 0 0 0 0 0 0 0 0 ...\n",
      " $ age_range_30.0.60.0                               : int  0 0 0 0 0 0 0 0 0 0 ...\n",
      " $ age_range_36.0.45.0                               : int  0 0 0 0 0 0 0 0 0 0 ...\n",
      " $ age_range_46.0.55.0                               : int  0 0 0 0 0 0 0 0 0 0 ...\n",
      " $ platform_name_facebook                            : int  1 1 1 1 1 1 1 1 1 1 ...\n",
      " $ cost_per_click                                    : num  0.457 1.37 0.685 0.7 0 ...\n"
     ]
    }
   ],
   "source": [
    "str(df)"
   ]
  },
  {
   "cell_type": "markdown",
   "metadata": {},
   "source": [
    "Splitting the dataset into the Training set and Test set"
   ]
  },
  {
   "cell_type": "code",
   "execution_count": 12,
   "metadata": {
    "collapsed": true
   },
   "outputs": [],
   "source": [
    "library(caTools)\n",
    "set.seed(123)\n",
    "split = sample.split(df$cost_per_click, SplitRatio = 0.7)\n",
    "training_set = subset(df, split == TRUE)\n",
    "test_set = subset(df, split == FALSE)"
   ]
  },
  {
   "cell_type": "code",
   "execution_count": 13,
   "metadata": {},
   "outputs": [
    {
     "data": {
      "text/html": [
       "<ol class=list-inline>\n",
       "\t<li>1283</li>\n",
       "\t<li>66</li>\n",
       "</ol>\n"
      ],
      "text/latex": [
       "\\begin{enumerate*}\n",
       "\\item 1283\n",
       "\\item 66\n",
       "\\end{enumerate*}\n"
      ],
      "text/markdown": [
       "1. 1283\n",
       "2. 66\n",
       "\n",
       "\n"
      ],
      "text/plain": [
       "[1] 1283   66"
      ]
     },
     "metadata": {},
     "output_type": "display_data"
    }
   ],
   "source": [
    "dim(training_set)"
   ]
  },
  {
   "cell_type": "code",
   "execution_count": 14,
   "metadata": {},
   "outputs": [
    {
     "data": {
      "text/html": [
       "<ol class=list-inline>\n",
       "\t<li>550</li>\n",
       "\t<li>66</li>\n",
       "</ol>\n"
      ],
      "text/latex": [
       "\\begin{enumerate*}\n",
       "\\item 550\n",
       "\\item 66\n",
       "\\end{enumerate*}\n"
      ],
      "text/markdown": [
       "1. 550\n",
       "2. 66\n",
       "\n",
       "\n"
      ],
      "text/plain": [
       "[1] 550  66"
      ]
     },
     "metadata": {},
     "output_type": "display_data"
    }
   ],
   "source": [
    "dim(test_set)"
   ]
  },
  {
   "cell_type": "markdown",
   "metadata": {},
   "source": [
    "Feature Scaling is taken care by function in R"
   ]
  },
  {
   "cell_type": "markdown",
   "metadata": {},
   "source": [
    "R takes care of Dummy variable trap"
   ]
  },
  {
   "cell_type": "code",
   "execution_count": 132,
   "metadata": {
    "collapsed": true
   },
   "outputs": [],
   "source": [
    "regressor = lm(formula =cost_per_click ~ .,data=training_set)"
   ]
  },
  {
   "cell_type": "code",
   "execution_count": 133,
   "metadata": {},
   "outputs": [
    {
     "name": "stderr",
     "output_type": "stream",
     "text": [
      "Warning message in predict.lm(regressor, test_set):\n",
      "\"prediction from a rank-deficient fit may be misleading\""
     ]
    }
   ],
   "source": [
    "y_pred = predict(regressor, test_set)"
   ]
  },
  {
   "cell_type": "code",
   "execution_count": 134,
   "metadata": {},
   "outputs": [
    {
     "data": {
      "text/html": [
       "5.02843423187897"
      ],
      "text/latex": [
       "5.02843423187897"
      ],
      "text/markdown": [
       "5.02843423187897"
      ],
      "text/plain": [
       "[1] 5.028434"
      ]
     },
     "metadata": {},
     "output_type": "display_data"
    }
   ],
   "source": [
    "mse(test_set$cost_per_click,y_pred)"
   ]
  },
  {
   "cell_type": "code",
   "execution_count": 136,
   "metadata": {},
   "outputs": [
    {
     "data": {
      "image/png": "[encoded data removed]",
      "text/plain": [
       "plot without title"
      ]
     },
     "metadata": {},
     "output_type": "display_data"
    }
   ],
   "source": [
    "plot(test_set$cost_per_click,y_pred)"
   ]
  },
  {
   "cell_type": "code",
   "execution_count": 137,
   "metadata": {},
   "outputs": [
    {
     "data": {
      "text/html": [
       "0.4703050372931"
      ],
      "text/latex": [
       "0.4703050372931"
      ],
      "text/markdown": [
       "0.4703050372931"
      ],
      "text/plain": [
       "[1] 0.470305"
      ]
     },
     "metadata": {},
     "output_type": "display_data"
    }
   ],
   "source": [
    "cor(test_set$cost_per_click,y_pred)"
   ]
  },
  {
   "cell_type": "markdown",
   "metadata": {},
   "source": [
    "# Support vector Regression"
   ]
  },
  {
   "cell_type": "code",
   "execution_count": 139,
   "metadata": {},
   "outputs": [
    {
     "name": "stderr",
     "output_type": "stream",
     "text": [
      "Warning message in svm.default(x, y, scale = scale, ..., na.action = na.action):\n",
      "\"Variable(s) 'platform_name_facebook' constant. Cannot scale data.\""
     ]
    }
   ],
   "source": [
    "library(e1071)\n",
    "regressor = svm(formula = cost_per_click ~ .,\n",
    "                data = training_set,\n",
    "                type = 'eps-regression',\n",
    "                kernel = 'radial')"
   ]
  },
  {
   "cell_type": "code",
   "execution_count": 140,
   "metadata": {
    "collapsed": true
   },
   "outputs": [],
   "source": [
    "y_pred = predict(regressor, test_set)"
   ]
  },
  {
   "cell_type": "code",
   "execution_count": 141,
   "metadata": {},
   "outputs": [
    {
     "data": {
      "text/html": [
       "5.28617857234085"
      ],
      "text/latex": [
       "5.28617857234085"
      ],
      "text/markdown": [
       "5.28617857234085"
      ],
      "text/plain": [
       "[1] 5.286179"
      ]
     },
     "metadata": {},
     "output_type": "display_data"
    }
   ],
   "source": [
    "mse(test_set$cost_per_click,y_pred)"
   ]
  },
  {
   "cell_type": "code",
   "execution_count": 143,
   "metadata": {},
   "outputs": [
    {
     "data": {
      "image/png": "[encoded data removed]",
      "text/plain": [
       "plot without title"
      ]
     },
     "metadata": {},
     "output_type": "display_data"
    }
   ],
   "source": [
    "plot(test_set$cost_per_click,y_pred)"
   ]
  },
  {
   "cell_type": "code",
   "execution_count": 144,
   "metadata": {},
   "outputs": [
    {
     "data": {
      "text/html": [
       "0.45279361878732"
      ],
      "text/latex": [
       "0.45279361878732"
      ],
      "text/markdown": [
       "0.45279361878732"
      ],
      "text/plain": [
       "[1] 0.4527936"
      ]
     },
     "metadata": {},
     "output_type": "display_data"
    }
   ],
   "source": [
    "cor(test_set$cost_per_click,y_pred)"
   ]
  },
  {
   "cell_type": "markdown",
   "metadata": {},
   "source": [
    "# Random forest Regression "
   ]
  },
  {
   "cell_type": "code",
   "execution_count": 145,
   "metadata": {
    "collapsed": true
   },
   "outputs": [],
   "source": [
    "library(randomForest)\n",
    "set.seed(1234)\n",
    "regressor = randomForest(x = training_set[,1:65],\n",
    "                         y = training_set$cost_per_click,\n",
    "                         ntree = 50)"
   ]
  },
  {
   "cell_type": "code",
   "execution_count": 146,
   "metadata": {
    "collapsed": true
   },
   "outputs": [],
   "source": [
    "y_pred = predict(regressor, test_set)"
   ]
  },
  {
   "cell_type": "code",
   "execution_count": 147,
   "metadata": {},
   "outputs": [
    {
     "data": {
      "text/html": [
       "4.68044461650941"
      ],
      "text/latex": [
       "4.68044461650941"
      ],
      "text/markdown": [
       "4.68044461650941"
      ],
      "text/plain": [
       "[1] 4.680445"
      ]
     },
     "metadata": {},
     "output_type": "display_data"
    }
   ],
   "source": [
    "mse(test_set$cost_per_click,y_pred)"
   ]
  },
  {
   "cell_type": "code",
   "execution_count": 149,
   "metadata": {},
   "outputs": [
    {
     "data": {
      "image/png": "[encoded data removed]",
      "text/plain": [
       "plot without title"
      ]
     },
     "metadata": {},
     "output_type": "display_data"
    }
   ],
   "source": [
    "plot(test_set$cost_per_click,y_pred)"
   ]
  },
  {
   "cell_type": "code",
   "execution_count": 150,
   "metadata": {},
   "outputs": [
    {
     "data": {
      "text/html": [
       "0.519081420479104"
      ],
      "text/latex": [
       "0.519081420479104"
      ],
      "text/markdown": [
       "0.519081420479104"
      ],
      "text/plain": [
       "[1] 0.5190814"
      ]
     },
     "metadata": {},
     "output_type": "display_data"
    }
   ],
   "source": [
    "cor(test_set$cost_per_click,y_pred)"
   ]
  },
  {
   "cell_type": "code",
   "execution_count": 152,
   "metadata": {},
   "outputs": [
    {
     "data": {
      "image/png": "[encoded data removed]",
      "text/plain": [
       "plot without title"
      ]
     },
     "metadata": {},
     "output_type": "display_data"
    }
   ],
   "source": [
    "library(randomForest)\n",
    "set.seed(1234)\n",
    "regressor = randomForest(x = training_set[,1:65],\n",
    "                         y = training_set$cost_per_click,\n",
    "                         ntree = 250)\n",
    "y_pred = predict(regressor, test_set)\n",
    "plot(test_set$cost_per_click,y_pred)"
   ]
  },
  {
   "cell_type": "code",
   "execution_count": 153,
   "metadata": {},
   "outputs": [
    {
     "data": {
      "text/html": [
       "4.61615991611226"
      ],
      "text/latex": [
       "4.61615991611226"
      ],
      "text/markdown": [
       "4.61615991611226"
      ],
      "text/plain": [
       "[1] 4.61616"
      ]
     },
     "metadata": {},
     "output_type": "display_data"
    }
   ],
   "source": [
    "mse(test_set$cost_per_click,y_pred)"
   ]
  },
  {
   "cell_type": "code",
   "execution_count": 154,
   "metadata": {},
   "outputs": [
    {
     "data": {
      "text/html": [
       "0.526814137684403"
      ],
      "text/latex": [
       "0.526814137684403"
      ],
      "text/markdown": [
       "0.526814137684403"
      ],
      "text/plain": [
       "[1] 0.5268141"
      ]
     },
     "metadata": {},
     "output_type": "display_data"
    }
   ],
   "source": [
    "cor(test_set$cost_per_click,y_pred)"
   ]
  },
  {
   "cell_type": "markdown",
   "metadata": {
    "collapsed": true
   },
   "source": [
    "As the number of trees in random forest increases the Mean Square Error decreases. But the correlation is some what weak"
   ]
  }
 ],
 "metadata": {
  "kernelspec": {
   "display_name": "R",
   "language": "R",
   "name": "ir"
  },
  "language_info": {
   "codemirror_mode": "r",
   "file_extension": ".r",
   "mimetype": "text/x-r-source",
   "name": "R",
   "pygments_lexer": "r",
   "version": "3.4.2"
  }
 },
 "nbformat": 4,
 "nbformat_minor": 2
}
